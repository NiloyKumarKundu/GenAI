{
  "nbformat": 4,
  "nbformat_minor": 0,
  "metadata": {
    "colab": {
      "provenance": [],
      "gpuType": "T4",
      "authorship_tag": "ABX9TyPYGTrISWLXI4DxykI1a6bR",
      "include_colab_link": true
    },
    "kernelspec": {
      "name": "python3",
      "display_name": "Python 3"
    },
    "language_info": {
      "name": "python"
    },
    "accelerator": "GPU"
  },
  "cells": [
    {
      "cell_type": "markdown",
      "metadata": {
        "id": "view-in-github",
        "colab_type": "text"
      },
      "source": [
        "<a href=\"https://colab.research.google.com/github/NiloyKumarKundu/GenAI/blob/main/Gemini_Conversational_Chain%2C_Embeddings_and_Safety_Settings.ipynb\" target=\"_parent\"><img src=\"https://colab.research.google.com/assets/colab-badge.svg\" alt=\"Open In Colab\"/></a>"
      ]
    },
    {
      "cell_type": "code",
      "execution_count": 58,
      "metadata": {
        "id": "ILzoZ1OXrl6E"
      },
      "outputs": [],
      "source": [
        "!pip install -q -U google-generativeai"
      ]
    },
    {
      "cell_type": "code",
      "source": [
        "from google.colab import userdata\n",
        "import os\n",
        "from IPython.display import Markdown\n",
        "\n",
        "os.environ[\"GOOGLE_API_KEY\"] = userdata.get(\"GOOGLE_API_KEY\")"
      ],
      "metadata": {
        "id": "lEHrkAoRsd01"
      },
      "execution_count": 59,
      "outputs": []
    },
    {
      "cell_type": "code",
      "source": [
        "import google.generativeai as genai\n",
        "\n",
        "genai.configure(api_key=os.environ[\"GOOGLE_API_KEY\"])"
      ],
      "metadata": {
        "id": "pJBvUxbdsXaf"
      },
      "execution_count": 60,
      "outputs": []
    },
    {
      "cell_type": "markdown",
      "source": [
        "## Generate text from inputs"
      ],
      "metadata": {
        "id": "_Ts9Y8amtvtF"
      }
    },
    {
      "cell_type": "code",
      "source": [
        "# model = genai.GenerativeModel(\"gemini-pro\")"
      ],
      "metadata": {
        "id": "y18wnkt1tcJ7"
      },
      "execution_count": 61,
      "outputs": []
    },
    {
      "cell_type": "code",
      "source": [
        "model = genai.GenerativeModel(\"gemini-1.5-flash\")"
      ],
      "metadata": {
        "id": "vn9K0tXQP7zF"
      },
      "execution_count": 62,
      "outputs": []
    },
    {
      "cell_type": "code",
      "source": [
        "%%time\n",
        "response = model.generate_content(\"What is the meaning of life?\")"
      ],
      "metadata": {
        "colab": {
          "base_uri": "https://localhost:8080/",
          "height": 53
        },
        "id": "WSwzlMHhu3gP",
        "outputId": "bc307f65-98f0-487a-b40e-458e999d5113"
      },
      "execution_count": 63,
      "outputs": [
        {
          "output_type": "stream",
          "name": "stdout",
          "text": [
            "CPU times: user 56.8 ms, sys: 6.46 ms, total: 63.3 ms\n",
            "Wall time: 5.27 s\n"
          ]
        }
      ]
    },
    {
      "cell_type": "code",
      "source": [
        "response.text"
      ],
      "metadata": {
        "colab": {
          "base_uri": "https://localhost:8080/",
          "height": 127
        },
        "id": "tZUVKgOxvDoX",
        "outputId": "6ce27875-5a19-4cb2-b062-5646097fa744"
      },
      "execution_count": 64,
      "outputs": [
        {
          "output_type": "execute_result",
          "data": {
            "text/plain": [
              "\"The meaning of life is a question that has puzzled philosophers and theologians for centuries, and there is no single, universally accepted answer. Here are some perspectives:\\n\\n**Philosophical Perspectives:**\\n\\n* **Nihilism:** This view suggests that life has no inherent meaning or purpose. Existence is ultimately meaningless, and there is no objective good or evil.\\n* **Existentialism:** Emphasizes individual freedom and responsibility.  Humans are free to choose their own meanings and create their own values.  \\n* **Absurdism:** Life is inherently absurd because there is no inherent meaning, but we must embrace this absurdity and create meaning through our actions and choices.\\n* **Utilitarianism:** The greatest good for the greatest number of people.  Meaning is found in maximizing happiness and well-being.\\n* **Hedonism:** The pursuit of pleasure and the avoidance of pain.  Meaning is found in maximizing one's own happiness.\\n\\n**Religious Perspectives:**\\n\\n* **Theism:** Life has meaning and purpose given by a higher power or deity.  This purpose often involves serving God, following specific teachings, or achieving spiritual enlightenment.\\n* **Buddhism:**  Life is a cycle of suffering caused by attachment and desire.  The goal is to break free from this cycle through meditation and ethical conduct.\\n* **Other Religions:** Many religions offer different interpretations of the meaning of life, often emphasizing values like love, compassion, and service to others.\\n\\n**Personal Perspectives:**\\n\\nUltimately, the meaning of life is a highly personal question. Some people find meaning in:\\n\\n* **Love and relationships:** Building strong connections with others, raising families, or contributing to the lives of others.\\n* **Work and creativity:** Making a difference through their work, contributing to society, or pursuing their passions.\\n* **Experiences and growth:**  Exploring the world, learning new things, and expanding their horizons.\\n* **Helping others:** Contributing to the well-being of others through charitable work, activism, or volunteering.\\n* **Spiritual pursuits:**  Seeking meaning through meditation, prayer, or connecting with something larger than themselves.\\n\\n**The key takeaway:**\\n\\nThe meaning of life is a question that each individual must answer for themselves. There is no right or wrong answer. Instead of searching for a definitive meaning, it might be more helpful to focus on living a fulfilling life based on your own values and goals. \\n\""
            ],
            "application/vnd.google.colaboratory.intrinsic+json": {
              "type": "string"
            }
          },
          "metadata": {},
          "execution_count": 64
        }
      ]
    },
    {
      "cell_type": "code",
      "source": [
        "Markdown(response.text)"
      ],
      "metadata": {
        "colab": {
          "base_uri": "https://localhost:8080/",
          "height": 499
        },
        "id": "_kyUDuU7vHNQ",
        "outputId": "92c90865-3e47-46e9-f4a6-1f2bb596db46"
      },
      "execution_count": 65,
      "outputs": [
        {
          "output_type": "execute_result",
          "data": {
            "text/plain": [
              "<IPython.core.display.Markdown object>"
            ],
            "text/markdown": "The meaning of life is a question that has puzzled philosophers and theologians for centuries, and there is no single, universally accepted answer. Here are some perspectives:\n\n**Philosophical Perspectives:**\n\n* **Nihilism:** This view suggests that life has no inherent meaning or purpose. Existence is ultimately meaningless, and there is no objective good or evil.\n* **Existentialism:** Emphasizes individual freedom and responsibility.  Humans are free to choose their own meanings and create their own values.  \n* **Absurdism:** Life is inherently absurd because there is no inherent meaning, but we must embrace this absurdity and create meaning through our actions and choices.\n* **Utilitarianism:** The greatest good for the greatest number of people.  Meaning is found in maximizing happiness and well-being.\n* **Hedonism:** The pursuit of pleasure and the avoidance of pain.  Meaning is found in maximizing one's own happiness.\n\n**Religious Perspectives:**\n\n* **Theism:** Life has meaning and purpose given by a higher power or deity.  This purpose often involves serving God, following specific teachings, or achieving spiritual enlightenment.\n* **Buddhism:**  Life is a cycle of suffering caused by attachment and desire.  The goal is to break free from this cycle through meditation and ethical conduct.\n* **Other Religions:** Many religions offer different interpretations of the meaning of life, often emphasizing values like love, compassion, and service to others.\n\n**Personal Perspectives:**\n\nUltimately, the meaning of life is a highly personal question. Some people find meaning in:\n\n* **Love and relationships:** Building strong connections with others, raising families, or contributing to the lives of others.\n* **Work and creativity:** Making a difference through their work, contributing to society, or pursuing their passions.\n* **Experiences and growth:**  Exploring the world, learning new things, and expanding their horizons.\n* **Helping others:** Contributing to the well-being of others through charitable work, activism, or volunteering.\n* **Spiritual pursuits:**  Seeking meaning through meditation, prayer, or connecting with something larger than themselves.\n\n**The key takeaway:**\n\nThe meaning of life is a question that each individual must answer for themselves. There is no right or wrong answer. Instead of searching for a definitive meaning, it might be more helpful to focus on living a fulfilling life based on your own values and goals. \n"
          },
          "metadata": {},
          "execution_count": 65
        }
      ]
    },
    {
      "cell_type": "code",
      "source": [
        "response.candidates"
      ],
      "metadata": {
        "colab": {
          "base_uri": "https://localhost:8080/"
        },
        "id": "88NNsjyWv6CV",
        "outputId": "73114113-2ebc-44cc-a00f-f904d63820cd"
      },
      "execution_count": 66,
      "outputs": [
        {
          "output_type": "execute_result",
          "data": {
            "text/plain": [
              "[index: 0\n",
              "content {\n",
              "  parts {\n",
              "    text: \"The meaning of life is a question that has puzzled philosophers and theologians for centuries, and there is no single, universally accepted answer. Here are some perspectives:\\n\\n**Philosophical Perspectives:**\\n\\n* **Nihilism:** This view suggests that life has no inherent meaning or purpose. Existence is ultimately meaningless, and there is no objective good or evil.\\n* **Existentialism:** Emphasizes individual freedom and responsibility.  Humans are free to choose their own meanings and create their own values.  \\n* **Absurdism:** Life is inherently absurd because there is no inherent meaning, but we must embrace this absurdity and create meaning through our actions and choices.\\n* **Utilitarianism:** The greatest good for the greatest number of people.  Meaning is found in maximizing happiness and well-being.\\n* **Hedonism:** The pursuit of pleasure and the avoidance of pain.  Meaning is found in maximizing one\\'s own happiness.\\n\\n**Religious Perspectives:**\\n\\n* **Theism:** Life has meaning and purpose given by a higher power or deity.  This purpose often involves serving God, following specific teachings, or achieving spiritual enlightenment.\\n* **Buddhism:**  Life is a cycle of suffering caused by attachment and desire.  The goal is to break free from this cycle through meditation and ethical conduct.\\n* **Other Religions:** Many religions offer different interpretations of the meaning of life, often emphasizing values like love, compassion, and service to others.\\n\\n**Personal Perspectives:**\\n\\nUltimately, the meaning of life is a highly personal question. Some people find meaning in:\\n\\n* **Love and relationships:** Building strong connections with others, raising families, or contributing to the lives of others.\\n* **Work and creativity:** Making a difference through their work, contributing to society, or pursuing their passions.\\n* **Experiences and growth:**  Exploring the world, learning new things, and expanding their horizons.\\n* **Helping others:** Contributing to the well-being of others through charitable work, activism, or volunteering.\\n* **Spiritual pursuits:**  Seeking meaning through meditation, prayer, or connecting with something larger than themselves.\\n\\n**The key takeaway:**\\n\\nThe meaning of life is a question that each individual must answer for themselves. There is no right or wrong answer. Instead of searching for a definitive meaning, it might be more helpful to focus on living a fulfilling life based on your own values and goals. \\n\"\n",
              "  }\n",
              "  role: \"model\"\n",
              "}\n",
              "finish_reason: STOP\n",
              "safety_ratings {\n",
              "  category: HARM_CATEGORY_SEXUALLY_EXPLICIT\n",
              "  probability: NEGLIGIBLE\n",
              "}\n",
              "safety_ratings {\n",
              "  category: HARM_CATEGORY_HATE_SPEECH\n",
              "  probability: NEGLIGIBLE\n",
              "}\n",
              "safety_ratings {\n",
              "  category: HARM_CATEGORY_HARASSMENT\n",
              "  probability: NEGLIGIBLE\n",
              "}\n",
              "safety_ratings {\n",
              "  category: HARM_CATEGORY_DANGEROUS_CONTENT\n",
              "  probability: NEGLIGIBLE\n",
              "}\n",
              "]"
            ]
          },
          "metadata": {},
          "execution_count": 66
        }
      ]
    },
    {
      "cell_type": "code",
      "source": [
        "response.parts"
      ],
      "metadata": {
        "colab": {
          "base_uri": "https://localhost:8080/"
        },
        "id": "jwnWWy2owEwv",
        "outputId": "b3acc0d4-dfe0-488e-c7c7-6a8a08333da5"
      },
      "execution_count": 67,
      "outputs": [
        {
          "output_type": "execute_result",
          "data": {
            "text/plain": [
              "[text: \"The meaning of life is a question that has puzzled philosophers and theologians for centuries, and there is no single, universally accepted answer. Here are some perspectives:\\n\\n**Philosophical Perspectives:**\\n\\n* **Nihilism:** This view suggests that life has no inherent meaning or purpose. Existence is ultimately meaningless, and there is no objective good or evil.\\n* **Existentialism:** Emphasizes individual freedom and responsibility.  Humans are free to choose their own meanings and create their own values.  \\n* **Absurdism:** Life is inherently absurd because there is no inherent meaning, but we must embrace this absurdity and create meaning through our actions and choices.\\n* **Utilitarianism:** The greatest good for the greatest number of people.  Meaning is found in maximizing happiness and well-being.\\n* **Hedonism:** The pursuit of pleasure and the avoidance of pain.  Meaning is found in maximizing one\\'s own happiness.\\n\\n**Religious Perspectives:**\\n\\n* **Theism:** Life has meaning and purpose given by a higher power or deity.  This purpose often involves serving God, following specific teachings, or achieving spiritual enlightenment.\\n* **Buddhism:**  Life is a cycle of suffering caused by attachment and desire.  The goal is to break free from this cycle through meditation and ethical conduct.\\n* **Other Religions:** Many religions offer different interpretations of the meaning of life, often emphasizing values like love, compassion, and service to others.\\n\\n**Personal Perspectives:**\\n\\nUltimately, the meaning of life is a highly personal question. Some people find meaning in:\\n\\n* **Love and relationships:** Building strong connections with others, raising families, or contributing to the lives of others.\\n* **Work and creativity:** Making a difference through their work, contributing to society, or pursuing their passions.\\n* **Experiences and growth:**  Exploring the world, learning new things, and expanding their horizons.\\n* **Helping others:** Contributing to the well-being of others through charitable work, activism, or volunteering.\\n* **Spiritual pursuits:**  Seeking meaning through meditation, prayer, or connecting with something larger than themselves.\\n\\n**The key takeaway:**\\n\\nThe meaning of life is a question that each individual must answer for themselves. There is no right or wrong answer. Instead of searching for a definitive meaning, it might be more helpful to focus on living a fulfilling life based on your own values and goals. \\n\"\n",
              "]"
            ]
          },
          "metadata": {},
          "execution_count": 67
        }
      ]
    },
    {
      "cell_type": "code",
      "source": [
        "response.prompt_feedback"
      ],
      "metadata": {
        "colab": {
          "base_uri": "https://localhost:8080/"
        },
        "id": "jXMjm9JqwHOc",
        "outputId": "0a3132fb-c3d7-4638-9ab4-4721461b048e"
      },
      "execution_count": 68,
      "outputs": [
        {
          "output_type": "execute_result",
          "data": {
            "text/plain": []
          },
          "metadata": {},
          "execution_count": 68
        }
      ]
    },
    {
      "cell_type": "code",
      "source": [
        "response = model.generate_content(\n",
        "    \"Tell me about the avengers\",\n",
        "    generation_config=genai.types.GenerationConfig(\n",
        "        candidate_count = 1,\n",
        "        stop_sequences = [\"x\"],\n",
        "        max_output_tokens = 200,\n",
        "        temperature = 1\n",
        "    )\n",
        ")"
      ],
      "metadata": {
        "id": "kVJSwRG9JiUH"
      },
      "execution_count": 69,
      "outputs": []
    },
    {
      "cell_type": "code",
      "source": [
        "Markdown(response.text)"
      ],
      "metadata": {
        "colab": {
          "base_uri": "https://localhost:8080/",
          "height": 287
        },
        "id": "tAxf8eL0K3Mo",
        "outputId": "cd1f7aa8-7f6f-46b6-c175-361a386b73fb"
      },
      "execution_count": 70,
      "outputs": [
        {
          "output_type": "execute_result",
          "data": {
            "text/plain": [
              "<IPython.core.display.Markdown object>"
            ],
            "text/markdown": "## The Avengers: Earth's Mightiest Heroes\n\nThe Avengers are a team of superheroes who appear in Marvel Comics publications. They are known as Earth's Mightiest Heroes and have been featured in numerous comic books, television shows, films, and other media. Here's a breakdown:\n\n**Origin:**\n\n* The Avengers were formed in 1963 by **Stan Lee and Jack Kirby**.\n* The original team consisted of **Iron Man, Thor, Hulk, Ant-Man, and Wasp**.\n* They were initially formed to combat a common enemy, but soon became a permanent team, united by a shared sense of responsibility and a desire to protect the world.\n\n**Core Members:**\n\n* **Iron Man:** Tony Stark, a genius inventor and billionaire, who uses advanced technology in his Iron Man suit.\n* **Thor:** Norse God of Thunder, wielding Mjolnir, a powerful hammer.\n* **Hulk:** Dr. Bruce Banner,"
          },
          "metadata": {},
          "execution_count": 70
        }
      ]
    },
    {
      "cell_type": "code",
      "source": [
        "response.prompt_feedback"
      ],
      "metadata": {
        "colab": {
          "base_uri": "https://localhost:8080/"
        },
        "id": "mMzyzgggLQJw",
        "outputId": "438e373c-3d6a-4d1d-8734-9209a22b2815"
      },
      "execution_count": 71,
      "outputs": [
        {
          "output_type": "execute_result",
          "data": {
            "text/plain": []
          },
          "metadata": {},
          "execution_count": 71
        }
      ]
    },
    {
      "cell_type": "code",
      "source": [
        "response.parts"
      ],
      "metadata": {
        "colab": {
          "base_uri": "https://localhost:8080/"
        },
        "id": "PibcpQ4TLdKT",
        "outputId": "9d4d7096-a831-4843-f524-99bf510d0f92"
      },
      "execution_count": 72,
      "outputs": [
        {
          "output_type": "execute_result",
          "data": {
            "text/plain": [
              "[text: \"## The Avengers: Earth\\'s Mightiest Heroes\\n\\nThe Avengers are a team of superheroes who appear in Marvel Comics publications. They are known as Earth\\'s Mightiest Heroes and have been featured in numerous comic books, television shows, films, and other media. Here\\'s a breakdown:\\n\\n**Origin:**\\n\\n* The Avengers were formed in 1963 by **Stan Lee and Jack Kirby**.\\n* The original team consisted of **Iron Man, Thor, Hulk, Ant-Man, and Wasp**.\\n* They were initially formed to combat a common enemy, but soon became a permanent team, united by a shared sense of responsibility and a desire to protect the world.\\n\\n**Core Members:**\\n\\n* **Iron Man:** Tony Stark, a genius inventor and billionaire, who uses advanced technology in his Iron Man suit.\\n* **Thor:** Norse God of Thunder, wielding Mjolnir, a powerful hammer.\\n* **Hulk:** Dr. Bruce Banner,\"\n",
              "]"
            ]
          },
          "metadata": {},
          "execution_count": 72
        }
      ]
    },
    {
      "cell_type": "code",
      "source": [
        "response = model.generate_content(\n",
        "    \"Tell me about the avengers\",\n",
        "    generation_config=genai.types.GenerationConfig(\n",
        "        candidate_count = 1,\n",
        "        stop_sequences = [\"Avengers\"],\n",
        "        max_output_tokens = 200,\n",
        "        temperature = 1\n",
        "    )\n",
        ")"
      ],
      "metadata": {
        "id": "VQ8nzz6sLfAS"
      },
      "execution_count": 73,
      "outputs": []
    },
    {
      "cell_type": "code",
      "source": [
        "Markdown(response.text)"
      ],
      "metadata": {
        "colab": {
          "base_uri": "https://localhost:8080/",
          "height": 46
        },
        "id": "Lgr7QZJwLroo",
        "outputId": "3e410859-c8e7-4ff6-afed-f2add0d30536"
      },
      "execution_count": 74,
      "outputs": [
        {
          "output_type": "execute_result",
          "data": {
            "text/plain": [
              "<IPython.core.display.Markdown object>"
            ],
            "text/markdown": "The "
          },
          "metadata": {},
          "execution_count": 74
        }
      ]
    },
    {
      "cell_type": "markdown",
      "source": [
        "## Chat history"
      ],
      "metadata": {
        "id": "l5XksHLPMAay"
      }
    },
    {
      "cell_type": "code",
      "source": [
        "chat = model.start_chat(history=[])"
      ],
      "metadata": {
        "id": "B84xEOF8Lukm"
      },
      "execution_count": 75,
      "outputs": []
    },
    {
      "cell_type": "code",
      "source": [
        "response = chat.send_message(\"James Webb Space Telescope?\")"
      ],
      "metadata": {
        "id": "v-_w_3p7MII_"
      },
      "execution_count": 76,
      "outputs": []
    },
    {
      "cell_type": "code",
      "source": [
        "Markdown(response.text)"
      ],
      "metadata": {
        "colab": {
          "base_uri": "https://localhost:8080/",
          "height": 586
        },
        "id": "7DiIg7wVMrN9",
        "outputId": "8dcb24db-dd20-4e15-e605-4c5302d6c0e2"
      },
      "execution_count": 77,
      "outputs": [
        {
          "output_type": "execute_result",
          "data": {
            "text/plain": [
              "<IPython.core.display.Markdown object>"
            ],
            "text/markdown": "The James Webb Space Telescope (JWST) is a revolutionary space telescope that launched in December 2021 and has been sending back stunning images and data ever since. Here's a breakdown of its key aspects:\n\n**What is the JWST?**\n\n* **The largest and most powerful space telescope ever built:** Its primary mirror is 6.5 meters (21 feet) in diameter, compared to Hubble's 2.4 meters (8 feet). This gives it significantly more light-gathering power.\n* **Infrared observatory:** Unlike Hubble, which primarily observes visible light, JWST specializes in infrared light. This allows it to see through dust clouds and observe objects that are too faint or too far away to be detected in visible light.\n* **Orbiting at a distance of 1.5 million kilometers (930,000 miles) from Earth:** This location, known as the second Lagrange point (L2), provides a stable environment for observations.\n\n**Why is it so important?**\n\n* **Observing the first stars and galaxies:** JWST is able to see back in time to the early universe, just a few hundred million years after the Big Bang. This allows us to study the formation and evolution of the first stars and galaxies.\n* **Studying exoplanet atmospheres:** JWST can analyze the atmospheres of planets orbiting other stars, searching for signs of life or potentially habitable environments.\n* **Understanding the formation of stars and planets:** By studying the birthplaces of stars and planets, JWST can shed light on how our own solar system formed.\n* **Providing breathtaking images:** The telescope's advanced technology produces incredibly detailed and beautiful images of the cosmos, captivating the public and inspiring future generations.\n\n**Key accomplishments so far:**\n\n* **Deepest infrared image of the early universe:** JWST captured a stunning image of a cluster of galaxies so far away that their light took billions of years to reach us.\n* **First clear images of exoplanet atmospheres:** JWST has analyzed the atmosphere of an exoplanet, revealing the presence of clouds and water vapor.\n* **Images of star formation in nebulae:** JWST has captured images of vibrant nebulae where stars are being born, revealing intricate details of the process.\n\n**Challenges and future of JWST:**\n\n* **Cost and complexity:** The project was incredibly expensive and challenging to build, facing numerous delays.\n* **Maintaining a stable environment:** The telescope's instruments need to be kept extremely cold to function properly, requiring constant maintenance.\n* **Limited lifespan:** While designed for a 10-year mission, JWST's actual lifespan may depend on factors like fuel consumption and micro-meteoroid impacts.\n\n**In conclusion, the James Webb Space Telescope is a technological marvel that is revolutionizing our understanding of the universe. Its groundbreaking discoveries and breathtaking images continue to inspire awe and excitement, and it promises to continue delivering valuable scientific data for years to come.**\n"
          },
          "metadata": {},
          "execution_count": 77
        }
      ]
    },
    {
      "cell_type": "code",
      "source": [
        "chat.history"
      ],
      "metadata": {
        "colab": {
          "base_uri": "https://localhost:8080/"
        },
        "id": "WAPwTgINM7xR",
        "outputId": "acab83ab-fef6-45aa-d320-21f0ab8c1d0e"
      },
      "execution_count": 78,
      "outputs": [
        {
          "output_type": "execute_result",
          "data": {
            "text/plain": [
              "[parts {\n",
              "   text: \"James Webb Space Telescope?\"\n",
              " }\n",
              " role: \"user\",\n",
              " parts {\n",
              "   text: \"The James Webb Space Telescope (JWST) is a revolutionary space telescope that launched in December 2021 and has been sending back stunning images and data ever since. Here\\'s a breakdown of its key aspects:\\n\\n**What is the JWST?**\\n\\n* **The largest and most powerful space telescope ever built:** Its primary mirror is 6.5 meters (21 feet) in diameter, compared to Hubble\\'s 2.4 meters (8 feet). This gives it significantly more light-gathering power.\\n* **Infrared observatory:** Unlike Hubble, which primarily observes visible light, JWST specializes in infrared light. This allows it to see through dust clouds and observe objects that are too faint or too far away to be detected in visible light.\\n* **Orbiting at a distance of 1.5 million kilometers (930,000 miles) from Earth:** This location, known as the second Lagrange point (L2), provides a stable environment for observations.\\n\\n**Why is it so important?**\\n\\n* **Observing the first stars and galaxies:** JWST is able to see back in time to the early universe, just a few hundred million years after the Big Bang. This allows us to study the formation and evolution of the first stars and galaxies.\\n* **Studying exoplanet atmospheres:** JWST can analyze the atmospheres of planets orbiting other stars, searching for signs of life or potentially habitable environments.\\n* **Understanding the formation of stars and planets:** By studying the birthplaces of stars and planets, JWST can shed light on how our own solar system formed.\\n* **Providing breathtaking images:** The telescope\\'s advanced technology produces incredibly detailed and beautiful images of the cosmos, captivating the public and inspiring future generations.\\n\\n**Key accomplishments so far:**\\n\\n* **Deepest infrared image of the early universe:** JWST captured a stunning image of a cluster of galaxies so far away that their light took billions of years to reach us.\\n* **First clear images of exoplanet atmospheres:** JWST has analyzed the atmosphere of an exoplanet, revealing the presence of clouds and water vapor.\\n* **Images of star formation in nebulae:** JWST has captured images of vibrant nebulae where stars are being born, revealing intricate details of the process.\\n\\n**Challenges and future of JWST:**\\n\\n* **Cost and complexity:** The project was incredibly expensive and challenging to build, facing numerous delays.\\n* **Maintaining a stable environment:** The telescope\\'s instruments need to be kept extremely cold to function properly, requiring constant maintenance.\\n* **Limited lifespan:** While designed for a 10-year mission, JWST\\'s actual lifespan may depend on factors like fuel consumption and micro-meteoroid impacts.\\n\\n**In conclusion, the James Webb Space Telescope is a technological marvel that is revolutionizing our understanding of the universe. Its groundbreaking discoveries and breathtaking images continue to inspire awe and excitement, and it promises to continue delivering valuable scientific data for years to come.**\\n\"\n",
              " }\n",
              " role: \"model\"]"
            ]
          },
          "metadata": {},
          "execution_count": 78
        }
      ]
    },
    {
      "cell_type": "code",
      "source": [
        "response.prompt_feedback"
      ],
      "metadata": {
        "colab": {
          "base_uri": "https://localhost:8080/"
        },
        "id": "sXvm6y1NM5xp",
        "outputId": "91e17e56-54f6-4b96-efbc-77c380ca89d1"
      },
      "execution_count": 79,
      "outputs": [
        {
          "output_type": "execute_result",
          "data": {
            "text/plain": []
          },
          "metadata": {},
          "execution_count": 79
        }
      ]
    },
    {
      "cell_type": "code",
      "source": [
        "response.candidates"
      ],
      "metadata": {
        "colab": {
          "base_uri": "https://localhost:8080/"
        },
        "id": "5YNkE7-mMtTQ",
        "outputId": "b8d2efe0-1855-416c-a01b-498590681348"
      },
      "execution_count": 80,
      "outputs": [
        {
          "output_type": "execute_result",
          "data": {
            "text/plain": [
              "[index: 0\n",
              "content {\n",
              "  parts {\n",
              "    text: \"The James Webb Space Telescope (JWST) is a revolutionary space telescope that launched in December 2021 and has been sending back stunning images and data ever since. Here\\'s a breakdown of its key aspects:\\n\\n**What is the JWST?**\\n\\n* **The largest and most powerful space telescope ever built:** Its primary mirror is 6.5 meters (21 feet) in diameter, compared to Hubble\\'s 2.4 meters (8 feet). This gives it significantly more light-gathering power.\\n* **Infrared observatory:** Unlike Hubble, which primarily observes visible light, JWST specializes in infrared light. This allows it to see through dust clouds and observe objects that are too faint or too far away to be detected in visible light.\\n* **Orbiting at a distance of 1.5 million kilometers (930,000 miles) from Earth:** This location, known as the second Lagrange point (L2), provides a stable environment for observations.\\n\\n**Why is it so important?**\\n\\n* **Observing the first stars and galaxies:** JWST is able to see back in time to the early universe, just a few hundred million years after the Big Bang. This allows us to study the formation and evolution of the first stars and galaxies.\\n* **Studying exoplanet atmospheres:** JWST can analyze the atmospheres of planets orbiting other stars, searching for signs of life or potentially habitable environments.\\n* **Understanding the formation of stars and planets:** By studying the birthplaces of stars and planets, JWST can shed light on how our own solar system formed.\\n* **Providing breathtaking images:** The telescope\\'s advanced technology produces incredibly detailed and beautiful images of the cosmos, captivating the public and inspiring future generations.\\n\\n**Key accomplishments so far:**\\n\\n* **Deepest infrared image of the early universe:** JWST captured a stunning image of a cluster of galaxies so far away that their light took billions of years to reach us.\\n* **First clear images of exoplanet atmospheres:** JWST has analyzed the atmosphere of an exoplanet, revealing the presence of clouds and water vapor.\\n* **Images of star formation in nebulae:** JWST has captured images of vibrant nebulae where stars are being born, revealing intricate details of the process.\\n\\n**Challenges and future of JWST:**\\n\\n* **Cost and complexity:** The project was incredibly expensive and challenging to build, facing numerous delays.\\n* **Maintaining a stable environment:** The telescope\\'s instruments need to be kept extremely cold to function properly, requiring constant maintenance.\\n* **Limited lifespan:** While designed for a 10-year mission, JWST\\'s actual lifespan may depend on factors like fuel consumption and micro-meteoroid impacts.\\n\\n**In conclusion, the James Webb Space Telescope is a technological marvel that is revolutionizing our understanding of the universe. Its groundbreaking discoveries and breathtaking images continue to inspire awe and excitement, and it promises to continue delivering valuable scientific data for years to come.**\\n\"\n",
              "  }\n",
              "  role: \"model\"\n",
              "}\n",
              "finish_reason: STOP\n",
              "safety_ratings {\n",
              "  category: HARM_CATEGORY_SEXUALLY_EXPLICIT\n",
              "  probability: NEGLIGIBLE\n",
              "}\n",
              "safety_ratings {\n",
              "  category: HARM_CATEGORY_HATE_SPEECH\n",
              "  probability: NEGLIGIBLE\n",
              "}\n",
              "safety_ratings {\n",
              "  category: HARM_CATEGORY_HARASSMENT\n",
              "  probability: NEGLIGIBLE\n",
              "}\n",
              "safety_ratings {\n",
              "  category: HARM_CATEGORY_DANGEROUS_CONTENT\n",
              "  probability: NEGLIGIBLE\n",
              "}\n",
              "]"
            ]
          },
          "metadata": {},
          "execution_count": 80
        }
      ]
    },
    {
      "cell_type": "code",
      "source": [
        "response = chat.send_message(\"Tell me why we need this?\")"
      ],
      "metadata": {
        "id": "fC65KKtBM3D-"
      },
      "execution_count": 81,
      "outputs": []
    },
    {
      "cell_type": "code",
      "source": [
        "Markdown(response.text)"
      ],
      "metadata": {
        "colab": {
          "base_uri": "https://localhost:8080/",
          "height": 465
        },
        "id": "v5rrDwoVNOoK",
        "outputId": "bb3b49b9-fd9c-464c-f539-9467595ea415"
      },
      "execution_count": 82,
      "outputs": [
        {
          "output_type": "execute_result",
          "data": {
            "text/plain": [
              "<IPython.core.display.Markdown object>"
            ],
            "text/markdown": "You're right to ask \"why?\"  The James Webb Space Telescope (JWST) is a massive investment, both in money and effort.  Here's why we need it:\n\n**1. To See the Unseen:** \n\n* **The Early Universe:**  JWST can peer back further in time than any telescope before, allowing us to see the first stars and galaxies that formed after the Big Bang. This is like looking at baby pictures of the universe, and it helps us understand how it evolved into the cosmos we see today.\n* **Hidden Objects:**  Infrared light penetrates dust clouds that block visible light, revealing hidden star-forming regions, distant galaxies, and the atmospheres of planets orbiting other stars.\n\n**2. To Answer Big Questions:**\n\n* **How did galaxies form?** JWST's observations will provide crucial information about the early universe, helping us understand how galaxies assembled and grew.\n* **Are we alone?** JWST's infrared capabilities allow us to study the atmospheres of exoplanets, searching for signs of life or potentially habitable environments. This is a key step in the search for extraterrestrial life.\n* **How did our own solar system form?** By studying the birthplaces of stars and planets, JWST can shed light on how our own solar system formed and evolved.\n\n**3. To Advance Science and Technology:**\n\n* **Developing new technologies:**  The JWST project pushed the boundaries of engineering and technology, leading to advancements in optics, materials science, and cryogenics.\n* **Inspiring future generations:** The breathtaking images and discoveries from JWST inspire a sense of wonder and curiosity in the public, encouraging the next generation of scientists and engineers.\n\n**4. To Expand Human Knowledge:**\n\n* **Understanding our place in the universe:**  The JWST's discoveries help us understand our place in the vast and complex universe, challenging our assumptions and expanding our knowledge of the cosmos.\n\n**In short, the James Webb Space Telescope is not just a telescope; it's a window to the past, a key to understanding the universe, and an inspiration for the future.** \n"
          },
          "metadata": {},
          "execution_count": 82
        }
      ]
    },
    {
      "cell_type": "code",
      "source": [
        "chat.history"
      ],
      "metadata": {
        "colab": {
          "base_uri": "https://localhost:8080/"
        },
        "id": "hoTp_RFqNWnv",
        "outputId": "825b3255-87cc-48ac-e680-94d2831d8de4"
      },
      "execution_count": 83,
      "outputs": [
        {
          "output_type": "execute_result",
          "data": {
            "text/plain": [
              "[parts {\n",
              "   text: \"James Webb Space Telescope?\"\n",
              " }\n",
              " role: \"user\",\n",
              " parts {\n",
              "   text: \"The James Webb Space Telescope (JWST) is a revolutionary space telescope that launched in December 2021 and has been sending back stunning images and data ever since. Here\\'s a breakdown of its key aspects:\\n\\n**What is the JWST?**\\n\\n* **The largest and most powerful space telescope ever built:** Its primary mirror is 6.5 meters (21 feet) in diameter, compared to Hubble\\'s 2.4 meters (8 feet). This gives it significantly more light-gathering power.\\n* **Infrared observatory:** Unlike Hubble, which primarily observes visible light, JWST specializes in infrared light. This allows it to see through dust clouds and observe objects that are too faint or too far away to be detected in visible light.\\n* **Orbiting at a distance of 1.5 million kilometers (930,000 miles) from Earth:** This location, known as the second Lagrange point (L2), provides a stable environment for observations.\\n\\n**Why is it so important?**\\n\\n* **Observing the first stars and galaxies:** JWST is able to see back in time to the early universe, just a few hundred million years after the Big Bang. This allows us to study the formation and evolution of the first stars and galaxies.\\n* **Studying exoplanet atmospheres:** JWST can analyze the atmospheres of planets orbiting other stars, searching for signs of life or potentially habitable environments.\\n* **Understanding the formation of stars and planets:** By studying the birthplaces of stars and planets, JWST can shed light on how our own solar system formed.\\n* **Providing breathtaking images:** The telescope\\'s advanced technology produces incredibly detailed and beautiful images of the cosmos, captivating the public and inspiring future generations.\\n\\n**Key accomplishments so far:**\\n\\n* **Deepest infrared image of the early universe:** JWST captured a stunning image of a cluster of galaxies so far away that their light took billions of years to reach us.\\n* **First clear images of exoplanet atmospheres:** JWST has analyzed the atmosphere of an exoplanet, revealing the presence of clouds and water vapor.\\n* **Images of star formation in nebulae:** JWST has captured images of vibrant nebulae where stars are being born, revealing intricate details of the process.\\n\\n**Challenges and future of JWST:**\\n\\n* **Cost and complexity:** The project was incredibly expensive and challenging to build, facing numerous delays.\\n* **Maintaining a stable environment:** The telescope\\'s instruments need to be kept extremely cold to function properly, requiring constant maintenance.\\n* **Limited lifespan:** While designed for a 10-year mission, JWST\\'s actual lifespan may depend on factors like fuel consumption and micro-meteoroid impacts.\\n\\n**In conclusion, the James Webb Space Telescope is a technological marvel that is revolutionizing our understanding of the universe. Its groundbreaking discoveries and breathtaking images continue to inspire awe and excitement, and it promises to continue delivering valuable scientific data for years to come.**\\n\"\n",
              " }\n",
              " role: \"model\",\n",
              " parts {\n",
              "   text: \"Tell me why we need this?\"\n",
              " }\n",
              " role: \"user\",\n",
              " parts {\n",
              "   text: \"You\\'re right to ask \\\"why?\\\"  The James Webb Space Telescope (JWST) is a massive investment, both in money and effort.  Here\\'s why we need it:\\n\\n**1. To See the Unseen:** \\n\\n* **The Early Universe:**  JWST can peer back further in time than any telescope before, allowing us to see the first stars and galaxies that formed after the Big Bang. This is like looking at baby pictures of the universe, and it helps us understand how it evolved into the cosmos we see today.\\n* **Hidden Objects:**  Infrared light penetrates dust clouds that block visible light, revealing hidden star-forming regions, distant galaxies, and the atmospheres of planets orbiting other stars.\\n\\n**2. To Answer Big Questions:**\\n\\n* **How did galaxies form?** JWST\\'s observations will provide crucial information about the early universe, helping us understand how galaxies assembled and grew.\\n* **Are we alone?** JWST\\'s infrared capabilities allow us to study the atmospheres of exoplanets, searching for signs of life or potentially habitable environments. This is a key step in the search for extraterrestrial life.\\n* **How did our own solar system form?** By studying the birthplaces of stars and planets, JWST can shed light on how our own solar system formed and evolved.\\n\\n**3. To Advance Science and Technology:**\\n\\n* **Developing new technologies:**  The JWST project pushed the boundaries of engineering and technology, leading to advancements in optics, materials science, and cryogenics.\\n* **Inspiring future generations:** The breathtaking images and discoveries from JWST inspire a sense of wonder and curiosity in the public, encouraging the next generation of scientists and engineers.\\n\\n**4. To Expand Human Knowledge:**\\n\\n* **Understanding our place in the universe:**  The JWST\\'s discoveries help us understand our place in the vast and complex universe, challenging our assumptions and expanding our knowledge of the cosmos.\\n\\n**In short, the James Webb Space Telescope is not just a telescope; it\\'s a window to the past, a key to understanding the universe, and an inspiration for the future.** \\n\"\n",
              " }\n",
              " role: \"model\"]"
            ]
          },
          "metadata": {},
          "execution_count": 83
        }
      ]
    },
    {
      "cell_type": "code",
      "source": [
        "response = chat.send_message(\"What is it's current position?\", stream=True)\n",
        "for chunk in response:\n",
        "    print(chunk.text)\n",
        "    print(\"_\" * 80)"
      ],
      "metadata": {
        "colab": {
          "base_uri": "https://localhost:8080/",
          "height": 582
        },
        "id": "EaijDS-JO5K5",
        "outputId": "e7978fdf-76a3-438e-a95c-e5555a16e372"
      },
      "execution_count": 84,
      "outputs": [
        {
          "output_type": "stream",
          "name": "stdout",
          "text": [
            "The James Webb Space\n",
            "________________________________________________________________________________\n",
            " Telescope (JWST) is currently orbiting the Sun at a point called the second Lagrange point (\n",
            "________________________________________________________________________________\n",
            "L2), located about 1.5 million kilometers (930,\n",
            "________________________________________________________________________________\n",
            "000 miles) from Earth. \n",
            "\n",
            "It's important to remember that L2 isn't a fixed point in space; it's more\n",
            "________________________________________________________________________________\n",
            " like a gravitational sweet spot. The combined gravitational pull of the Earth and Sun keeps the telescope in a stable orbit around L2. \n",
            "\n",
            "To understand the telescope's position\n",
            "________________________________________________________________________________\n",
            ", think of it like a \"halo orbit\" around L2. It's not a perfect circle, but a slightly wobbly path that keeps the telescope in a relatively stable location, allowing it to maintain its orientation relative to the Sun\n",
            "________________________________________________________________________________\n",
            " and Earth. \n",
            "\n",
            "You can track the JWST's position in real-time using the following resources:\n",
            "\n",
            "* **NASA's Eyes on the Solar System website:**  [https://eyes.nasa.gov/](https://\n",
            "________________________________________________________________________________\n",
            "eyes.nasa.gov/) This website allows you to visualize the JWST's location and orbit in 3D.\n",
            "* **JWST's official website:**  [https://www.nasa.gov/mission_pages/webb/main/](https://www.nasa.gov/mission_pages/webb\n",
            "________________________________________________________________________________\n",
            "/main/) You can find information about the telescope's current position on this website.\n",
            "\n",
            "By tracking the JWST's location, scientists can ensure that it remains properly aligned for its observations and that its instruments are operating correctly.\n",
            "\n",
            "________________________________________________________________________________\n"
          ]
        }
      ]
    },
    {
      "cell_type": "code",
      "source": [
        "Markdown(response.text)"
      ],
      "metadata": {
        "colab": {
          "base_uri": "https://localhost:8080/",
          "height": 233
        },
        "id": "NFpe3jd1PrD_",
        "outputId": "2332c62a-1899-4569-d94b-ab87574d9cc4"
      },
      "execution_count": 85,
      "outputs": [
        {
          "output_type": "execute_result",
          "data": {
            "text/plain": [
              "<IPython.core.display.Markdown object>"
            ],
            "text/markdown": "The James Webb Space Telescope (JWST) is currently orbiting the Sun at a point called the second Lagrange point (L2), located about 1.5 million kilometers (930,000 miles) from Earth. \n\nIt's important to remember that L2 isn't a fixed point in space; it's more like a gravitational sweet spot. The combined gravitational pull of the Earth and Sun keeps the telescope in a stable orbit around L2. \n\nTo understand the telescope's position, think of it like a \"halo orbit\" around L2. It's not a perfect circle, but a slightly wobbly path that keeps the telescope in a relatively stable location, allowing it to maintain its orientation relative to the Sun and Earth. \n\nYou can track the JWST's position in real-time using the following resources:\n\n* **NASA's Eyes on the Solar System website:**  [https://eyes.nasa.gov/](https://eyes.nasa.gov/) This website allows you to visualize the JWST's location and orbit in 3D.\n* **JWST's official website:**  [https://www.nasa.gov/mission_pages/webb/main/](https://www.nasa.gov/mission_pages/webb/main/) You can find information about the telescope's current position on this website.\n\nBy tracking the JWST's location, scientists can ensure that it remains properly aligned for its observations and that its instruments are operating correctly.\n"
          },
          "metadata": {},
          "execution_count": 85
        }
      ]
    },
    {
      "cell_type": "code",
      "source": [
        "response = chat.send_message(\"what is the updated version right now?\", stream=True)"
      ],
      "metadata": {
        "id": "nJWSiOwLPw4T"
      },
      "execution_count": 86,
      "outputs": []
    },
    {
      "cell_type": "code",
      "source": [
        "for chunk in response:\n",
        "    print(chunk.text)\n",
        "    print(\"_\" * 80)"
      ],
      "metadata": {
        "colab": {
          "base_uri": "https://localhost:8080/"
        },
        "id": "STdm4_vEQoC9",
        "outputId": "29d4df51-3fdf-457f-d702-281f4e43d534"
      },
      "execution_count": 87,
      "outputs": [
        {
          "output_type": "stream",
          "name": "stdout",
          "text": [
            "There\n",
            "________________________________________________________________________________\n",
            " isn't an \"updated version\" of the James Webb Space Telescope (JWST)\n",
            "________________________________________________________________________________\n",
            " in the sense of a newer model being built. The JWST is a unique and highly\n",
            "________________________________________________________________________________\n",
            " complex instrument, and there are no plans for a direct replacement in the immediate future. \n",
            "\n",
            "However, the JWST is constantly being \"updated\" in a few ways:\n",
            "________________________________________________________________________________\n",
            "\n",
            "\n",
            "* **Software updates:**  The telescope's software is regularly updated to improve its performance, fix bugs, and add new capabilities. These updates are often\n",
            "________________________________________________________________________________\n",
            " done remotely from Earth. \n",
            "* **Observing programs:** The JWST's observing programs are constantly being updated as scientists develop new ideas and priorities for the telescope's use. The telescope's schedule is managed by a committee\n",
            "________________________________________________________________________________\n",
            " that selects the best proposals for each observing cycle.\n",
            "* **Data analysis:**  As new data from the JWST is collected, scientists are continually analyzing it, leading to new discoveries and insights. This process of scientific inquiry is ongoing,\n",
            "________________________________________________________________________________\n",
            " constantly refining our understanding of the universe.\n",
            "\n",
            "**Future telescopes:** While there are no immediate plans for a JWST successor, there are several space telescope projects in development that could be launched in the future. These include:\n",
            "\n",
            "* **The Nancy Grace Roman Space Telescope (formerly known as WFIRST):** This telescope will be\n",
            "________________________________________________________________________________\n",
            " primarily focused on studying dark energy and exoplanets, and it's expected to launch in the mid-2020s.\n",
            "* **The Origins Space Telescope (OST):** This telescope is still in the early planning stages, but it is envisioned to be a successor to the JWST that will investigate the\n",
            "________________________________________________________________________________\n",
            " earliest moments of the universe.\n",
            "\n",
            "It's important to remember that even though the JWST is currently the most powerful space telescope, the quest to understand the universe is ongoing. The JWST's discoveries will likely inspire the development of even more powerful instruments in the future. \n",
            "\n",
            "________________________________________________________________________________\n"
          ]
        }
      ]
    },
    {
      "cell_type": "code",
      "source": [
        "Markdown(response.text)"
      ],
      "metadata": {
        "colab": {
          "base_uri": "https://localhost:8080/",
          "height": 354
        },
        "id": "261ob2a8QqGN",
        "outputId": "e68d5289-6627-4172-8f99-410db40bb30b"
      },
      "execution_count": 88,
      "outputs": [
        {
          "output_type": "execute_result",
          "data": {
            "text/plain": [
              "<IPython.core.display.Markdown object>"
            ],
            "text/markdown": "There isn't an \"updated version\" of the James Webb Space Telescope (JWST) in the sense of a newer model being built. The JWST is a unique and highly complex instrument, and there are no plans for a direct replacement in the immediate future. \n\nHowever, the JWST is constantly being \"updated\" in a few ways:\n\n* **Software updates:**  The telescope's software is regularly updated to improve its performance, fix bugs, and add new capabilities. These updates are often done remotely from Earth. \n* **Observing programs:** The JWST's observing programs are constantly being updated as scientists develop new ideas and priorities for the telescope's use. The telescope's schedule is managed by a committee that selects the best proposals for each observing cycle.\n* **Data analysis:**  As new data from the JWST is collected, scientists are continually analyzing it, leading to new discoveries and insights. This process of scientific inquiry is ongoing, constantly refining our understanding of the universe.\n\n**Future telescopes:** While there are no immediate plans for a JWST successor, there are several space telescope projects in development that could be launched in the future. These include:\n\n* **The Nancy Grace Roman Space Telescope (formerly known as WFIRST):** This telescope will be primarily focused on studying dark energy and exoplanets, and it's expected to launch in the mid-2020s.\n* **The Origins Space Telescope (OST):** This telescope is still in the early planning stages, but it is envisioned to be a successor to the JWST that will investigate the earliest moments of the universe.\n\nIt's important to remember that even though the JWST is currently the most powerful space telescope, the quest to understand the universe is ongoing. The JWST's discoveries will likely inspire the development of even more powerful instruments in the future. \n"
          },
          "metadata": {},
          "execution_count": 88
        }
      ]
    },
    {
      "cell_type": "code",
      "source": [
        "response = chat.send_message(\"what is the first one?\", stream=True)\n",
        "for chunk in response:\n",
        "    print(chunk.text)\n",
        "    print(\"_\" * 80)"
      ],
      "metadata": {
        "colab": {
          "base_uri": "https://localhost:8080/",
          "height": 527
        },
        "id": "e2YrDa5zQy7p",
        "outputId": "1f970656-897f-4274-a8f5-2f48865a5b98"
      },
      "execution_count": 89,
      "outputs": [
        {
          "output_type": "stream",
          "name": "stdout",
          "text": [
            "You're\n",
            "________________________________________________________________________________\n",
            " asking about the \"first one,\" meaning the first space telescope. That would be\n",
            "________________________________________________________________________________\n",
            " **Hubble Space Telescope**.  \n",
            "\n",
            "Here's a little about it:\n",
            "\n",
            "\n",
            "________________________________________________________________________________\n",
            "* **Launched in 1990:**  Hubble was a groundbreaking mission, sending a powerful telescope into orbit around Earth.\n",
            "* **Revolutionized astronomy:**\n",
            "________________________________________________________________________________\n",
            " It provided stunning images of distant galaxies, nebulae, and planets, revealing breathtaking beauty and deepening our understanding of the cosmos. \n",
            "* **Iconic images:**  \n",
            "________________________________________________________________________________\n",
            "From the \"Pillars of Creation\" in the Eagle Nebula to the \"Deep Field\" image revealing thousands of distant galaxies, Hubble's images have become iconic in popular culture and scientific circles.\n",
            "* **Still operational:** Though it's been\n",
            "________________________________________________________________________________\n",
            " upgraded several times, Hubble remains a valuable asset to astronomy.  \n",
            "* **A successor:**  While Hubble has been an incredible success, it has limitations in its capabilities and its orbit. This is one reason why the James Webb Space Telescope\n",
            "________________________________________________________________________________\n",
            " was built to continue the legacy of space-based astronomy.\n",
            "\n",
            "So, Hubble was the first, and it paved the way for the amazing discoveries made by the James Webb Space Telescope. \n",
            "\n",
            "________________________________________________________________________________\n"
          ]
        }
      ]
    },
    {
      "cell_type": "code",
      "source": [
        "Markdown(response.text)"
      ],
      "metadata": {
        "colab": {
          "base_uri": "https://localhost:8080/",
          "height": 238
        },
        "id": "_xwN_jRBQ_ur",
        "outputId": "5956667d-884c-45ed-dbc8-9235a15a005b"
      },
      "execution_count": 90,
      "outputs": [
        {
          "output_type": "execute_result",
          "data": {
            "text/plain": [
              "<IPython.core.display.Markdown object>"
            ],
            "text/markdown": "You're asking about the \"first one,\" meaning the first space telescope. That would be **Hubble Space Telescope**.  \n\nHere's a little about it:\n\n* **Launched in 1990:**  Hubble was a groundbreaking mission, sending a powerful telescope into orbit around Earth.\n* **Revolutionized astronomy:** It provided stunning images of distant galaxies, nebulae, and planets, revealing breathtaking beauty and deepening our understanding of the cosmos. \n* **Iconic images:**  From the \"Pillars of Creation\" in the Eagle Nebula to the \"Deep Field\" image revealing thousands of distant galaxies, Hubble's images have become iconic in popular culture and scientific circles.\n* **Still operational:** Though it's been upgraded several times, Hubble remains a valuable asset to astronomy.  \n* **A successor:**  While Hubble has been an incredible success, it has limitations in its capabilities and its orbit. This is one reason why the James Webb Space Telescope was built to continue the legacy of space-based astronomy.\n\nSo, Hubble was the first, and it paved the way for the amazing discoveries made by the James Webb Space Telescope. \n"
          },
          "metadata": {},
          "execution_count": 90
        }
      ]
    },
    {
      "cell_type": "code",
      "source": [
        "response = chat.send_message(\"what was the first one?\", stream=True)\n",
        "for chunk in response:\n",
        "    print(chunk.text)\n",
        "    print(\"_\" * 80)"
      ],
      "metadata": {
        "colab": {
          "base_uri": "https://localhost:8080/",
          "height": 527
        },
        "id": "wO-pu8PERBBG",
        "outputId": "8d867979-a21e-41ef-9b41-eaf8e7d4eb5c"
      },
      "execution_count": 91,
      "outputs": [
        {
          "output_type": "stream",
          "name": "stdout",
          "text": [
            "You're\n",
            "________________________________________________________________________________\n",
            " absolutely right!  I apologize for the mistake.  While Hubble was a very\n",
            "________________________________________________________________________________\n",
            " important and well-known telescope, it wasn't the first.  \n",
            "\n",
            "The first\n",
            "________________________________________________________________________________\n",
            " space telescope was actually **the Orbiting Astronomical Observatory (OAO)**, which launched in 1966. \n",
            "\n",
            "Here are some details:\n",
            "\n",
            "*\n",
            "________________________________________________________________________________\n",
            " **OAO-1:** The first attempt in 1966 was unsuccessful, but the next mission, OAO-2, was a major success.\n",
            "________________________________________________________________________________\n",
            "\n",
            "* **Ultraviolet observations:** OAO-2 was designed to observe in ultraviolet light, which can't penetrate Earth's atmosphere. This allowed astronomers to study stars and galaxies in a new way.\n",
            "* **Paved the way:**\n",
            "________________________________________________________________________________\n",
            " Although OAO-2 had a relatively short lifespan, it proved the value of space telescopes and helped pave the way for larger and more powerful missions like Hubble and JWST. \n",
            "\n",
            "So, while Hubble is often considered the \"first\" in\n",
            "________________________________________________________________________________\n",
            " popular culture due to its iconic images and enduring legacy, the true first space telescope was the Orbiting Astronomical Observatory.  Thanks for catching my error! \n",
            "\n",
            "________________________________________________________________________________\n"
          ]
        }
      ]
    },
    {
      "cell_type": "code",
      "source": [
        "Markdown(response.text)"
      ],
      "metadata": {
        "colab": {
          "base_uri": "https://localhost:8080/",
          "height": 227
        },
        "id": "jbrvx8PQRukX",
        "outputId": "96e06e00-e60f-408c-cc40-cb68cfc6e3f9"
      },
      "execution_count": 92,
      "outputs": [
        {
          "output_type": "execute_result",
          "data": {
            "text/plain": [
              "<IPython.core.display.Markdown object>"
            ],
            "text/markdown": "You're absolutely right!  I apologize for the mistake.  While Hubble was a very important and well-known telescope, it wasn't the first.  \n\nThe first space telescope was actually **the Orbiting Astronomical Observatory (OAO)**, which launched in 1966. \n\nHere are some details:\n\n* **OAO-1:** The first attempt in 1966 was unsuccessful, but the next mission, OAO-2, was a major success.\n* **Ultraviolet observations:** OAO-2 was designed to observe in ultraviolet light, which can't penetrate Earth's atmosphere. This allowed astronomers to study stars and galaxies in a new way.\n* **Paved the way:** Although OAO-2 had a relatively short lifespan, it proved the value of space telescopes and helped pave the way for larger and more powerful missions like Hubble and JWST. \n\nSo, while Hubble is often considered the \"first\" in popular culture due to its iconic images and enduring legacy, the true first space telescope was the Orbiting Astronomical Observatory.  Thanks for catching my error! \n"
          },
          "metadata": {},
          "execution_count": 92
        }
      ]
    },
    {
      "cell_type": "code",
      "source": [
        "response = chat.send_message(\"Find the values of a and b so that \\((2x^{3}+ax^{2}+x+b)\\) has \\((x+2)\\) and \\((2x1)\\) as factors. Give me step by step solution for understanding a children in bangla language.\", stream=True)\n",
        "for chunk in response:\n",
        "    print(chunk.text)\n",
        "    print(\"_\" * 80)"
      ],
      "metadata": {
        "colab": {
          "base_uri": "https://localhost:8080/",
          "height": 1000
        },
        "id": "B9754jyWUe0p",
        "outputId": "980120d1-d850-4155-817a-1211f3460a06"
      },
      "execution_count": 93,
      "outputs": [
        {
          "output_type": "stream",
          "name": "stdout",
          "text": [
            "##\n",
            "________________________________________________________________________________\n",
            " বীজগণিতের একটা মজার সমস্যা:\n",
            "\n",
            "\n",
            "________________________________________________________________________________\n",
            "আমরা জানি, যদি একটি বহুপদ\n",
            "________________________________________________________________________________\n",
            "ী  \\(x+2\\) এবং \\(2x-1\\) দ্বারা বিভাজ্য হয় তাহলে তার  \\(x=-2\\)\n",
            "________________________________________________________________________________\n",
            "  এবং  \\(x=\\frac{1}{2}\\)  এর জন্য মান শূন্য হবে। \n",
            "\n",
            "এখন,  \\(\n",
            "________________________________________________________________________________\n",
            "2x^3 + ax^2 + x + b\\)  এই বহুপদীর  \\(x=-2\\)  এবং  \\(x=\\frac{1}{2}\\)  এর জন্য মান শূ\n",
            "________________________________________________________________________________\n",
            "ন্য ধরে আমরা  \\(a\\)  এবং  \\(b\\)  এর মান নির্ণয় করবো।\n",
            "\n",
            "**ধাপ ১:  \\(x=-2\\)  এর জন্য বহুপ\n",
            "________________________________________________________________________________\n",
            "দীর মান:**\n",
            "\n",
            "* \\(2(-2)^3 + a(-2)^2 + (-2) + b = 0\\)\n",
            "* \\(-16 + 4a - 2 + b = 0\\)\n",
            "* \\(4a + b = 18\\)    **সমীকরণ\n",
            "________________________________________________________________________________\n",
            " (১)**\n",
            "\n",
            "**ধাপ ২:  \\(x=\\frac{1}{2}\\)  এর জন্য বহুপদীর মান:**\n",
            "\n",
            "* \\(2\\left(\\frac{1}{2}\\right)^3 + a\\left(\\frac{1}{2}\\right)^2 + \\frac{\n",
            "________________________________________________________________________________\n",
            "1}{2} + b = 0\\)\n",
            "* \\(\\frac{1}{4} + \\frac{a}{4} + \\frac{1}{2} + b = 0\\)\n",
            "* \\(\\frac{a}{4} + b = -\\frac{3}{4}\\)\n",
            "*\n",
            "________________________________________________________________________________\n",
            " \\(a + 4b = -3\\)    **সমীকরণ (২)**\n",
            "\n",
            "**ধাপ ৩:  সমীকরণ (১)  এবং  (২)  সমাধান করে  \\(a\\)  এবং  \\(b\\)  এর মান\n",
            "________________________________________________________________________________\n",
            " নির্ণয়:**\n",
            "\n",
            "* সমীকরণ (১) থেকে \\(b = 18 - 4a\\) \n",
            "* এই মানটি সমীকরণ (২) তে বসিয়ে পাই:  \\(a + 4(18 - 4a) = -3\\)\n",
            "________________________________________________________________________________\n",
            "\n",
            "* \\(a + 72 - 16a = -3\\)\n",
            "* \\(-15a = -75\\)\n",
            "* \\(a = 5\\) \n",
            "* \\(b = 18 - 4a = 18 - 4(5) = -2\\)\n",
            "\n",
            "**\n",
            "________________________________________________________________________________\n",
            "ফলাফল:**\n",
            "\n",
            "এইভাবে, আমরা দেখতে পাই যে \\(a=5\\)  এবং  \\(b=-2\\)  হলে, \\(2x^{3}+ax^{2}+x+b\\)  বহুপদীটি  \\(x+2\\)  \n",
            "________________________________________________________________________________\n",
            "এবং  \\(2x-1\\)  দ্বারা বিভাজ্য হবে।\n",
            "\n",
            "**আশা করি এই পদ্ধতিটি বোঝার জন্য সহজ ছিল।** \n",
            "\n",
            "________________________________________________________________________________\n"
          ]
        }
      ]
    },
    {
      "cell_type": "code",
      "source": [
        "Markdown(response.text)"
      ],
      "metadata": {
        "colab": {
          "base_uri": "https://localhost:8080/",
          "height": 497
        },
        "id": "v0FycCXLUeh2",
        "outputId": "543f6649-e0ef-469f-a20d-9c37facb089c"
      },
      "execution_count": 94,
      "outputs": [
        {
          "output_type": "execute_result",
          "data": {
            "text/plain": [
              "<IPython.core.display.Markdown object>"
            ],
            "text/markdown": "## বীজগণিতের একটা মজার সমস্যা:\n\nআমরা জানি, যদি একটি বহুপদী  \\(x+2\\) এবং \\(2x-1\\) দ্বারা বিভাজ্য হয় তাহলে তার  \\(x=-2\\)  এবং  \\(x=\\frac{1}{2}\\)  এর জন্য মান শূন্য হবে। \n\nএখন,  \\(2x^3 + ax^2 + x + b\\)  এই বহুপদীর  \\(x=-2\\)  এবং  \\(x=\\frac{1}{2}\\)  এর জন্য মান শূন্য ধরে আমরা  \\(a\\)  এবং  \\(b\\)  এর মান নির্ণয় করবো।\n\n**ধাপ ১:  \\(x=-2\\)  এর জন্য বহুপদীর মান:**\n\n* \\(2(-2)^3 + a(-2)^2 + (-2) + b = 0\\)\n* \\(-16 + 4a - 2 + b = 0\\)\n* \\(4a + b = 18\\)    **সমীকরণ (১)**\n\n**ধাপ ২:  \\(x=\\frac{1}{2}\\)  এর জন্য বহুপদীর মান:**\n\n* \\(2\\left(\\frac{1}{2}\\right)^3 + a\\left(\\frac{1}{2}\\right)^2 + \\frac{1}{2} + b = 0\\)\n* \\(\\frac{1}{4} + \\frac{a}{4} + \\frac{1}{2} + b = 0\\)\n* \\(\\frac{a}{4} + b = -\\frac{3}{4}\\)\n* \\(a + 4b = -3\\)    **সমীকরণ (২)**\n\n**ধাপ ৩:  সমীকরণ (১)  এবং  (২)  সমাধান করে  \\(a\\)  এবং  \\(b\\)  এর মান নির্ণয়:**\n\n* সমীকরণ (১) থেকে \\(b = 18 - 4a\\) \n* এই মানটি সমীকরণ (২) তে বসিয়ে পাই:  \\(a + 4(18 - 4a) = -3\\)\n* \\(a + 72 - 16a = -3\\)\n* \\(-15a = -75\\)\n* \\(a = 5\\) \n* \\(b = 18 - 4a = 18 - 4(5) = -2\\)\n\n**ফলাফল:**\n\nএইভাবে, আমরা দেখতে পাই যে \\(a=5\\)  এবং  \\(b=-2\\)  হলে, \\(2x^{3}+ax^{2}+x+b\\)  বহুপদীটি  \\(x+2\\)  এবং  \\(2x-1\\)  দ্বারা বিভাজ্য হবে।\n\n**আশা করি এই পদ্ধতিটি বোঝার জন্য সহজ ছিল।** \n"
          },
          "metadata": {},
          "execution_count": 94
        }
      ]
    },
    {
      "cell_type": "code",
      "source": [
        "chat.history"
      ],
      "metadata": {
        "id": "0tsH3lODV7Mi",
        "outputId": "0f99e2bf-8c75-4f3b-b600-31395098c28f",
        "colab": {
          "base_uri": "https://localhost:8080/"
        }
      },
      "execution_count": 95,
      "outputs": [
        {
          "output_type": "execute_result",
          "data": {
            "text/plain": [
              "[parts {\n",
              "   text: \"James Webb Space Telescope?\"\n",
              " }\n",
              " role: \"user\",\n",
              " parts {\n",
              "   text: \"The James Webb Space Telescope (JWST) is a revolutionary space telescope that launched in December 2021 and has been sending back stunning images and data ever since. Here\\'s a breakdown of its key aspects:\\n\\n**What is the JWST?**\\n\\n* **The largest and most powerful space telescope ever built:** Its primary mirror is 6.5 meters (21 feet) in diameter, compared to Hubble\\'s 2.4 meters (8 feet). This gives it significantly more light-gathering power.\\n* **Infrared observatory:** Unlike Hubble, which primarily observes visible light, JWST specializes in infrared light. This allows it to see through dust clouds and observe objects that are too faint or too far away to be detected in visible light.\\n* **Orbiting at a distance of 1.5 million kilometers (930,000 miles) from Earth:** This location, known as the second Lagrange point (L2), provides a stable environment for observations.\\n\\n**Why is it so important?**\\n\\n* **Observing the first stars and galaxies:** JWST is able to see back in time to the early universe, just a few hundred million years after the Big Bang. This allows us to study the formation and evolution of the first stars and galaxies.\\n* **Studying exoplanet atmospheres:** JWST can analyze the atmospheres of planets orbiting other stars, searching for signs of life or potentially habitable environments.\\n* **Understanding the formation of stars and planets:** By studying the birthplaces of stars and planets, JWST can shed light on how our own solar system formed.\\n* **Providing breathtaking images:** The telescope\\'s advanced technology produces incredibly detailed and beautiful images of the cosmos, captivating the public and inspiring future generations.\\n\\n**Key accomplishments so far:**\\n\\n* **Deepest infrared image of the early universe:** JWST captured a stunning image of a cluster of galaxies so far away that their light took billions of years to reach us.\\n* **First clear images of exoplanet atmospheres:** JWST has analyzed the atmosphere of an exoplanet, revealing the presence of clouds and water vapor.\\n* **Images of star formation in nebulae:** JWST has captured images of vibrant nebulae where stars are being born, revealing intricate details of the process.\\n\\n**Challenges and future of JWST:**\\n\\n* **Cost and complexity:** The project was incredibly expensive and challenging to build, facing numerous delays.\\n* **Maintaining a stable environment:** The telescope\\'s instruments need to be kept extremely cold to function properly, requiring constant maintenance.\\n* **Limited lifespan:** While designed for a 10-year mission, JWST\\'s actual lifespan may depend on factors like fuel consumption and micro-meteoroid impacts.\\n\\n**In conclusion, the James Webb Space Telescope is a technological marvel that is revolutionizing our understanding of the universe. Its groundbreaking discoveries and breathtaking images continue to inspire awe and excitement, and it promises to continue delivering valuable scientific data for years to come.**\\n\"\n",
              " }\n",
              " role: \"model\",\n",
              " parts {\n",
              "   text: \"Tell me why we need this?\"\n",
              " }\n",
              " role: \"user\",\n",
              " parts {\n",
              "   text: \"You\\'re right to ask \\\"why?\\\"  The James Webb Space Telescope (JWST) is a massive investment, both in money and effort.  Here\\'s why we need it:\\n\\n**1. To See the Unseen:** \\n\\n* **The Early Universe:**  JWST can peer back further in time than any telescope before, allowing us to see the first stars and galaxies that formed after the Big Bang. This is like looking at baby pictures of the universe, and it helps us understand how it evolved into the cosmos we see today.\\n* **Hidden Objects:**  Infrared light penetrates dust clouds that block visible light, revealing hidden star-forming regions, distant galaxies, and the atmospheres of planets orbiting other stars.\\n\\n**2. To Answer Big Questions:**\\n\\n* **How did galaxies form?** JWST\\'s observations will provide crucial information about the early universe, helping us understand how galaxies assembled and grew.\\n* **Are we alone?** JWST\\'s infrared capabilities allow us to study the atmospheres of exoplanets, searching for signs of life or potentially habitable environments. This is a key step in the search for extraterrestrial life.\\n* **How did our own solar system form?** By studying the birthplaces of stars and planets, JWST can shed light on how our own solar system formed and evolved.\\n\\n**3. To Advance Science and Technology:**\\n\\n* **Developing new technologies:**  The JWST project pushed the boundaries of engineering and technology, leading to advancements in optics, materials science, and cryogenics.\\n* **Inspiring future generations:** The breathtaking images and discoveries from JWST inspire a sense of wonder and curiosity in the public, encouraging the next generation of scientists and engineers.\\n\\n**4. To Expand Human Knowledge:**\\n\\n* **Understanding our place in the universe:**  The JWST\\'s discoveries help us understand our place in the vast and complex universe, challenging our assumptions and expanding our knowledge of the cosmos.\\n\\n**In short, the James Webb Space Telescope is not just a telescope; it\\'s a window to the past, a key to understanding the universe, and an inspiration for the future.** \\n\"\n",
              " }\n",
              " role: \"model\",\n",
              " parts {\n",
              "   text: \"What is it\\'s current position?\"\n",
              " }\n",
              " role: \"user\",\n",
              " parts {\n",
              "   text: \"The James Webb Space Telescope (JWST) is currently orbiting the Sun at a point called the second Lagrange point (L2), located about 1.5 million kilometers (930,000 miles) from Earth. \\n\\nIt\\'s important to remember that L2 isn\\'t a fixed point in space; it\\'s more like a gravitational sweet spot. The combined gravitational pull of the Earth and Sun keeps the telescope in a stable orbit around L2. \\n\\nTo understand the telescope\\'s position, think of it like a \\\"halo orbit\\\" around L2. It\\'s not a perfect circle, but a slightly wobbly path that keeps the telescope in a relatively stable location, allowing it to maintain its orientation relative to the Sun and Earth. \\n\\nYou can track the JWST\\'s position in real-time using the following resources:\\n\\n* **NASA\\'s Eyes on the Solar System website:**  [https://eyes.nasa.gov/](https://eyes.nasa.gov/) This website allows you to visualize the JWST\\'s location and orbit in 3D.\\n* **JWST\\'s official website:**  [https://www.nasa.gov/mission_pages/webb/main/](https://www.nasa.gov/mission_pages/webb/main/) You can find information about the telescope\\'s current position on this website.\\n\\nBy tracking the JWST\\'s location, scientists can ensure that it remains properly aligned for its observations and that its instruments are operating correctly.\\n\"\n",
              " }\n",
              " role: \"model\",\n",
              " parts {\n",
              "   text: \"what is the updated version right now?\"\n",
              " }\n",
              " role: \"user\",\n",
              " parts {\n",
              "   text: \"There isn\\'t an \\\"updated version\\\" of the James Webb Space Telescope (JWST) in the sense of a newer model being built. The JWST is a unique and highly complex instrument, and there are no plans for a direct replacement in the immediate future. \\n\\nHowever, the JWST is constantly being \\\"updated\\\" in a few ways:\\n\\n* **Software updates:**  The telescope\\'s software is regularly updated to improve its performance, fix bugs, and add new capabilities. These updates are often done remotely from Earth. \\n* **Observing programs:** The JWST\\'s observing programs are constantly being updated as scientists develop new ideas and priorities for the telescope\\'s use. The telescope\\'s schedule is managed by a committee that selects the best proposals for each observing cycle.\\n* **Data analysis:**  As new data from the JWST is collected, scientists are continually analyzing it, leading to new discoveries and insights. This process of scientific inquiry is ongoing, constantly refining our understanding of the universe.\\n\\n**Future telescopes:** While there are no immediate plans for a JWST successor, there are several space telescope projects in development that could be launched in the future. These include:\\n\\n* **The Nancy Grace Roman Space Telescope (formerly known as WFIRST):** This telescope will be primarily focused on studying dark energy and exoplanets, and it\\'s expected to launch in the mid-2020s.\\n* **The Origins Space Telescope (OST):** This telescope is still in the early planning stages, but it is envisioned to be a successor to the JWST that will investigate the earliest moments of the universe.\\n\\nIt\\'s important to remember that even though the JWST is currently the most powerful space telescope, the quest to understand the universe is ongoing. The JWST\\'s discoveries will likely inspire the development of even more powerful instruments in the future. \\n\"\n",
              " }\n",
              " role: \"model\",\n",
              " parts {\n",
              "   text: \"what is the first one?\"\n",
              " }\n",
              " role: \"user\",\n",
              " parts {\n",
              "   text: \"You\\'re asking about the \\\"first one,\\\" meaning the first space telescope. That would be **Hubble Space Telescope**.  \\n\\nHere\\'s a little about it:\\n\\n* **Launched in 1990:**  Hubble was a groundbreaking mission, sending a powerful telescope into orbit around Earth.\\n* **Revolutionized astronomy:** It provided stunning images of distant galaxies, nebulae, and planets, revealing breathtaking beauty and deepening our understanding of the cosmos. \\n* **Iconic images:**  From the \\\"Pillars of Creation\\\" in the Eagle Nebula to the \\\"Deep Field\\\" image revealing thousands of distant galaxies, Hubble\\'s images have become iconic in popular culture and scientific circles.\\n* **Still operational:** Though it\\'s been upgraded several times, Hubble remains a valuable asset to astronomy.  \\n* **A successor:**  While Hubble has been an incredible success, it has limitations in its capabilities and its orbit. This is one reason why the James Webb Space Telescope was built to continue the legacy of space-based astronomy.\\n\\nSo, Hubble was the first, and it paved the way for the amazing discoveries made by the James Webb Space Telescope. \\n\"\n",
              " }\n",
              " role: \"model\",\n",
              " parts {\n",
              "   text: \"what was the first one?\"\n",
              " }\n",
              " role: \"user\",\n",
              " parts {\n",
              "   text: \"You\\'re absolutely right!  I apologize for the mistake.  While Hubble was a very important and well-known telescope, it wasn\\'t the first.  \\n\\nThe first space telescope was actually **the Orbiting Astronomical Observatory (OAO)**, which launched in 1966. \\n\\nHere are some details:\\n\\n* **OAO-1:** The first attempt in 1966 was unsuccessful, but the next mission, OAO-2, was a major success.\\n* **Ultraviolet observations:** OAO-2 was designed to observe in ultraviolet light, which can\\'t penetrate Earth\\'s atmosphere. This allowed astronomers to study stars and galaxies in a new way.\\n* **Paved the way:** Although OAO-2 had a relatively short lifespan, it proved the value of space telescopes and helped pave the way for larger and more powerful missions like Hubble and JWST. \\n\\nSo, while Hubble is often considered the \\\"first\\\" in popular culture due to its iconic images and enduring legacy, the true first space telescope was the Orbiting Astronomical Observatory.  Thanks for catching my error! \\n\"\n",
              " }\n",
              " role: \"model\",\n",
              " parts {\n",
              "   text: \"Find the values of a and b so that \\\\((2x^{3}+ax^{2}+x+b)\\\\) has \\\\((x+2)\\\\) and \\\\((2x1)\\\\) as factors. Give me step by step solution for understanding a children in bangla language.\"\n",
              " }\n",
              " role: \"user\",\n",
              " parts {\n",
              "   text: \"## বীজগণিতের একটা মজার সমস্যা:\\n\\nআমরা জানি, যদি একটি বহুপদী  \\\\(x+2\\\\) এবং \\\\(2x-1\\\\) দ্বারা বিভাজ্য হয় তাহলে তার  \\\\(x=-2\\\\)  এবং  \\\\(x=\\\\frac{1}{2}\\\\)  এর জন্য মান শূন্য হবে। \\n\\nএখন,  \\\\(2x^3 + ax^2 + x + b\\\\)  এই বহুপদীর  \\\\(x=-2\\\\)  এবং  \\\\(x=\\\\frac{1}{2}\\\\)  এর জন্য মান শূন্য ধরে আমরা  \\\\(a\\\\)  এবং  \\\\(b\\\\)  এর মান নির্ণয় করবো।\\n\\n**ধাপ ১:  \\\\(x=-2\\\\)  এর জন্য বহুপদীর মান:**\\n\\n* \\\\(2(-2)^3 + a(-2)^2 + (-2) + b = 0\\\\)\\n* \\\\(-16 + 4a - 2 + b = 0\\\\)\\n* \\\\(4a + b = 18\\\\)    **সমীকরণ (১)**\\n\\n**ধাপ ২:  \\\\(x=\\\\frac{1}{2}\\\\)  এর জন্য বহুপদীর মান:**\\n\\n* \\\\(2\\\\left(\\\\frac{1}{2}\\\\right)^3 + a\\\\left(\\\\frac{1}{2}\\\\right)^2 + \\\\frac{1}{2} + b = 0\\\\)\\n* \\\\(\\\\frac{1}{4} + \\\\frac{a}{4} + \\\\frac{1}{2} + b = 0\\\\)\\n* \\\\(\\\\frac{a}{4} + b = -\\\\frac{3}{4}\\\\)\\n* \\\\(a + 4b = -3\\\\)    **সমীকরণ (২)**\\n\\n**ধাপ ৩:  সমীকরণ (১)  এবং  (২)  সমাধান করে  \\\\(a\\\\)  এবং  \\\\(b\\\\)  এর মান নির্ণয়:**\\n\\n* সমীকরণ (১) থেকে \\\\(b = 18 - 4a\\\\) \\n* এই মানটি সমীকরণ (২) তে বসিয়ে পাই:  \\\\(a + 4(18 - 4a) = -3\\\\)\\n* \\\\(a + 72 - 16a = -3\\\\)\\n* \\\\(-15a = -75\\\\)\\n* \\\\(a = 5\\\\) \\n* \\\\(b = 18 - 4a = 18 - 4(5) = -2\\\\)\\n\\n**ফলাফল:**\\n\\nএইভাবে, আমরা দেখতে পাই যে \\\\(a=5\\\\)  এবং  \\\\(b=-2\\\\)  হলে, \\\\(2x^{3}+ax^{2}+x+b\\\\)  বহুপদীটি  \\\\(x+2\\\\)  এবং  \\\\(2x-1\\\\)  দ্বারা বিভাজ্য হবে।\\n\\n**আশা করি এই পদ্ধতিটি বোঝার জন্য সহজ ছিল।** \\n\"\n",
              " }\n",
              " role: \"model\"]"
            ]
          },
          "metadata": {},
          "execution_count": 95
        }
      ]
    },
    {
      "cell_type": "markdown",
      "source": [
        "### Token Counts"
      ],
      "metadata": {
        "id": "NsOWwHpMSHOp"
      }
    },
    {
      "cell_type": "code",
      "source": [
        "model.count_tokens(\"This sentence is for checking the tokens\")"
      ],
      "metadata": {
        "colab": {
          "base_uri": "https://localhost:8080/",
          "height": 35
        },
        "id": "TV6Gr9cpRw1N",
        "outputId": "9c7364d4-2582-42a7-cf6f-d30bc624ca1d"
      },
      "execution_count": 96,
      "outputs": [
        {
          "output_type": "execute_result",
          "data": {
            "text/plain": [
              "total_tokens: 7"
            ]
          },
          "metadata": {},
          "execution_count": 96
        }
      ]
    },
    {
      "cell_type": "markdown",
      "source": [
        "### Use Embeddings"
      ],
      "metadata": {
        "id": "Sfn_YHkcSiDa"
      }
    },
    {
      "cell_type": "code",
      "source": [
        "result = genai.embed_content(\n",
        "    model=\"models/text-embedding-004\",\n",
        "    content=\"I am Niloy.\",\n",
        "    task_type=\"retrieval_document\",\n",
        "    title=\"Embedding of single string\"\n",
        ")"
      ],
      "metadata": {
        "id": "BDkgiFyevExa"
      },
      "execution_count": 97,
      "outputs": []
    },
    {
      "cell_type": "code",
      "source": [
        "result['embedding']"
      ],
      "metadata": {
        "colab": {
          "base_uri": "https://localhost:8080/"
        },
        "id": "o86VAwB-vEvl",
        "outputId": "f8956b85-3a49-4d3c-b370-d15aa95c2307"
      },
      "execution_count": 98,
      "outputs": [
        {
          "output_type": "execute_result",
          "data": {
            "text/plain": [
              "[-0.015802033,\n",
              " 0.034459364,\n",
              " -0.08500342,\n",
              " -0.010167325,\n",
              " 0.033297148,\n",
              " -0.043367993,\n",
              " 0.014918196,\n",
              " 0.06788997,\n",
              " -0.023297032,\n",
              " 0.024973888,\n",
              " 0.0029647194,\n",
              " 0.004720639,\n",
              " 0.049587604,\n",
              " -0.0075668157,\n",
              " 0.022190843,\n",
              " -0.09444137,\n",
              " 0.025660729,\n",
              " 0.03124112,\n",
              " -0.08958314,\n",
              " 0.0011825032,\n",
              " 0.027460456,\n",
              " -0.013243691,\n",
              " 0.07227266,\n",
              " -0.003966384,\n",
              " -0.019133432,\n",
              " -0.050528478,\n",
              " -0.0010907385,\n",
              " -0.065097146,\n",
              " -0.04633235,\n",
              " -0.04317559,\n",
              " 0.027984954,\n",
              " 0.06986322,\n",
              " -0.004586643,\n",
              " 0.008302016,\n",
              " 0.06376308,\n",
              " 0.06850014,\n",
              " -0.0019328318,\n",
              " 0.026111983,\n",
              " 0.05485625,\n",
              " -0.055204015,\n",
              " -0.05823371,\n",
              " 0.05254767,\n",
              " -0.034169532,\n",
              " 0.057897095,\n",
              " -0.022365363,\n",
              " -0.039663006,\n",
              " 0.013325382,\n",
              " 0.009088902,\n",
              " -0.019523038,\n",
              " 0.035269167,\n",
              " 0.09333642,\n",
              " 0.031516854,\n",
              " -0.030804694,\n",
              " 0.04479891,\n",
              " -0.017733183,\n",
              " -0.07294537,\n",
              " 0.0037193883,\n",
              " -0.050033104,\n",
              " 0.032511976,\n",
              " -0.038452387,\n",
              " -0.009932501,\n",
              " -0.043626394,\n",
              " -0.043129798,\n",
              " -0.0001529978,\n",
              " -0.003852174,\n",
              " -0.00472778,\n",
              " -0.009165082,\n",
              " 0.020603104,\n",
              " -0.112413615,\n",
              " 0.026550926,\n",
              " -0.029696628,\n",
              " 0.004015381,\n",
              " -0.05164869,\n",
              " -0.029972771,\n",
              " -0.027425168,\n",
              " -0.016309675,\n",
              " -0.016059758,\n",
              " 0.05093924,\n",
              " 0.004713737,\n",
              " 0.05059231,\n",
              " -0.038238455,\n",
              " 0.045894694,\n",
              " 0.07077773,\n",
              " 0.012206305,\n",
              " 0.02738862,\n",
              " -0.007097508,\n",
              " -0.013963269,\n",
              " -0.03994706,\n",
              " -0.036059506,\n",
              " -0.0181453,\n",
              " 0.082051046,\n",
              " -0.004073532,\n",
              " 0.026968468,\n",
              " 0.026042374,\n",
              " 0.03135794,\n",
              " -0.058323156,\n",
              " -0.049877327,\n",
              " -0.0876238,\n",
              " 0.055370905,\n",
              " 0.03968773,\n",
              " 0.022663388,\n",
              " 0.020015951,\n",
              " 0.002603638,\n",
              " -0.05927591,\n",
              " 0.042708196,\n",
              " 0.05678706,\n",
              " -0.0712776,\n",
              " -0.024751537,\n",
              " -0.022930777,\n",
              " 0.02173741,\n",
              " 0.0054956092,\n",
              " -0.06912587,\n",
              " -0.0118491715,\n",
              " -0.06499225,\n",
              " 0.005497688,\n",
              " -0.07056612,\n",
              " -0.014108672,\n",
              " -0.030686842,\n",
              " -0.014627798,\n",
              " -0.0005227781,\n",
              " -0.02433979,\n",
              " 0.04833807,\n",
              " -0.006088072,\n",
              " 0.04927152,\n",
              " 0.0015669048,\n",
              " 0.02150223,\n",
              " 0.031409647,\n",
              " -0.022883404,\n",
              " -0.02935237,\n",
              " -0.047763363,\n",
              " 0.11493775,\n",
              " -0.065214016,\n",
              " -0.03339038,\n",
              " -0.011282288,\n",
              " -0.024980566,\n",
              " -0.05869193,\n",
              " 0.031647407,\n",
              " 0.0068928194,\n",
              " 0.025314715,\n",
              " 0.001815834,\n",
              " 0.05570596,\n",
              " -0.03890196,\n",
              " -0.09747124,\n",
              " 0.06598237,\n",
              " 0.018009678,\n",
              " -0.049969096,\n",
              " 0.054886922,\n",
              " 0.049841993,\n",
              " -0.0323216,\n",
              " 0.006036201,\n",
              " 0.028468812,\n",
              " -0.018362429,\n",
              " -0.0070261667,\n",
              " -0.008993545,\n",
              " -0.001896869,\n",
              " 0.008387462,\n",
              " 0.06499755,\n",
              " -0.05075394,\n",
              " 0.06230348,\n",
              " -0.016698958,\n",
              " -0.029342083,\n",
              " -0.074852064,\n",
              " 0.03162221,\n",
              " -0.010316847,\n",
              " -0.033078358,\n",
              " 0.0001530088,\n",
              " 0.018103912,\n",
              " 0.0031195388,\n",
              " 0.008155984,\n",
              " 0.029738685,\n",
              " -0.02615388,\n",
              " -0.02577573,\n",
              " -0.043403585,\n",
              " -0.0055618556,\n",
              " -0.002854319,\n",
              " -0.0055061695,\n",
              " -0.029860813,\n",
              " -0.025124844,\n",
              " 0.005349567,\n",
              " 0.044702873,\n",
              " 0.06964864,\n",
              " 0.08015499,\n",
              " -0.026942229,\n",
              " -0.05049898,\n",
              " -0.053541366,\n",
              " 0.023999477,\n",
              " 0.000392063,\n",
              " 0.07114461,\n",
              " 0.078954935,\n",
              " 0.0510034,\n",
              " -0.03306779,\n",
              " 0.0015285601,\n",
              " 0.019227708,\n",
              " 0.023865197,\n",
              " -0.019376429,\n",
              " -0.038085166,\n",
              " 0.003963774,\n",
              " -0.04357507,\n",
              " -0.055789277,\n",
              " -0.040361915,\n",
              " 0.026699498,\n",
              " -0.009345454,\n",
              " -0.0120303,\n",
              " -0.05097993,\n",
              " -0.0019435398,\n",
              " -0.0010190302,\n",
              " -0.05181784,\n",
              " -0.034613043,\n",
              " 0.0792428,\n",
              " 0.0063571855,\n",
              " -0.025962783,\n",
              " -0.02495841,\n",
              " 0.019099649,\n",
              " -0.013137711,\n",
              " 0.021215856,\n",
              " -0.012218113,\n",
              " 0.04075941,\n",
              " 0.04331062,\n",
              " 0.089599185,\n",
              " 0.023437604,\n",
              " -0.009000805,\n",
              " 0.012739319,\n",
              " -0.050326183,\n",
              " -0.004709174,\n",
              " 0.05342961,\n",
              " 0.051663794,\n",
              " -0.014269799,\n",
              " -0.041669015,\n",
              " 0.014228006,\n",
              " -0.030349143,\n",
              " 0.027921235,\n",
              " 0.030855965,\n",
              " 0.027178206,\n",
              " 0.017250735,\n",
              " 0.080174275,\n",
              " 0.040889688,\n",
              " 0.006619464,\n",
              " 0.0074753277,\n",
              " -0.040691137,\n",
              " -0.0065178853,\n",
              " -0.013388234,\n",
              " 0.043485552,\n",
              " 0.02321864,\n",
              " 0.008659037,\n",
              " 0.04212036,\n",
              " 0.0694014,\n",
              " 0.010638764,\n",
              " 0.041049603,\n",
              " -0.02098879,\n",
              " -0.063085906,\n",
              " -0.04664114,\n",
              " -0.012329666,\n",
              " -0.02390523,\n",
              " -0.066785336,\n",
              " -0.043878313,\n",
              " -0.015228043,\n",
              " -0.018327286,\n",
              " 0.014076037,\n",
              " 0.027603634,\n",
              " -0.0057579335,\n",
              " 0.035362802,\n",
              " -0.07765141,\n",
              " 0.03319761,\n",
              " -0.07750043,\n",
              " -0.021333503,\n",
              " -0.04998844,\n",
              " -0.021274501,\n",
              " -0.029152418,\n",
              " 0.025607074,\n",
              " -0.03243787,\n",
              " 0.03992468,\n",
              " -0.044277523,\n",
              " -0.021703124,\n",
              " -0.021819215,\n",
              " 0.03470504,\n",
              " 0.0044870824,\n",
              " 0.002689903,\n",
              " -0.0054599466,\n",
              " -0.00024315373,\n",
              " 0.0058867014,\n",
              " -0.027882323,\n",
              " 0.0015909987,\n",
              " 0.0019931057,\n",
              " -0.0011172562,\n",
              " -0.015685894,\n",
              " -0.10898848,\n",
              " 0.00035901388,\n",
              " -0.0008378013,\n",
              " -0.048495956,\n",
              " -0.013735522,\n",
              " 0.02314347,\n",
              " 0.100057796,\n",
              " 0.009772566,\n",
              " -0.016373688,\n",
              " 0.025802523,\n",
              " 0.03555759,\n",
              " 0.034716934,\n",
              " 0.0036474895,\n",
              " 0.013687417,\n",
              " 0.009205621,\n",
              " 0.085288525,\n",
              " 0.049922697,\n",
              " 0.021611594,\n",
              " 0.016184177,\n",
              " -0.004184126,\n",
              " 0.012475317,\n",
              " 0.040724628,\n",
              " -0.03974743,\n",
              " -0.010332606,\n",
              " 0.00991025,\n",
              " 0.023930674,\n",
              " -0.0019629977,\n",
              " -0.027873399,\n",
              " -0.054310013,\n",
              " -0.06929965,\n",
              " -0.017427636,\n",
              " -0.15412763,\n",
              " -0.018735824,\n",
              " -0.04491865,\n",
              " -0.026914814,\n",
              " -0.05672973,\n",
              " 0.02589588,\n",
              " 0.0069820257,\n",
              " -0.05840969,\n",
              " 0.035585716,\n",
              " -0.026534254,\n",
              " -0.01599212,\n",
              " 0.0119734695,\n",
              " 0.03201319,\n",
              " 0.0029096487,\n",
              " 0.02603268,\n",
              " 0.027706372,\n",
              " -0.013134451,\n",
              " -0.07657866,\n",
              " 0.07112977,\n",
              " 0.00033673117,\n",
              " -0.042566773,\n",
              " 0.0446643,\n",
              " 0.032181673,\n",
              " 0.054308135,\n",
              " -0.024616918,\n",
              " 0.030751131,\n",
              " 0.035258174,\n",
              " 0.02295349,\n",
              " 0.02597661,\n",
              " -0.027157534,\n",
              " 0.049874946,\n",
              " -0.01320519,\n",
              " 0.026056485,\n",
              " -0.03779754,\n",
              " -0.010314364,\n",
              " 0.0146269705,\n",
              " 0.0436995,\n",
              " 0.028600112,\n",
              " -0.023403734,\n",
              " -0.011328446,\n",
              " 0.09623311,\n",
              " 0.025855925,\n",
              " 0.042301703,\n",
              " 0.009269402,\n",
              " -0.0134701235,\n",
              " 0.013045485,\n",
              " -0.019056125,\n",
              " 0.0013889814,\n",
              " -0.03194711,\n",
              " -0.035789777,\n",
              " 0.0076479316,\n",
              " 0.0419785,\n",
              " 0.003033023,\n",
              " 0.023239389,\n",
              " 0.011104892,\n",
              " -0.014331935,\n",
              " -0.013196027,\n",
              " -0.0060951365,\n",
              " 0.026095146,\n",
              " -0.027935483,\n",
              " 0.012136244,\n",
              " 0.016385859,\n",
              " 0.006033763,\n",
              " -0.033966538,\n",
              " 0.007765874,\n",
              " -0.028273927,\n",
              " 0.030649925,\n",
              " 0.0021554513,\n",
              " -0.07799585,\n",
              " 0.07722772,\n",
              " -0.05273954,\n",
              " -0.026171416,\n",
              " 0.037342783,\n",
              " -0.0057086935,\n",
              " 0.0006024009,\n",
              " 0.033235107,\n",
              " 0.03993046,\n",
              " 0.0041191303,\n",
              " 0.024990201,\n",
              " 0.031034825,\n",
              " -0.007097173,\n",
              " 0.059991177,\n",
              " -0.021138059,\n",
              " 0.039590374,\n",
              " 0.0072960923,\n",
              " 0.031697534,\n",
              " 0.05682384,\n",
              " -0.0026078727,\n",
              " -0.004482938,\n",
              " -0.035339583,\n",
              " 0.059225254,\n",
              " 0.016088428,\n",
              " 0.0035670449,\n",
              " 0.006814605,\n",
              " 0.0014639542,\n",
              " 0.019745909,\n",
              " -0.027379308,\n",
              " 0.011006455,\n",
              " -0.041255396,\n",
              " -0.009564268,\n",
              " -0.011814183,\n",
              " 0.022474775,\n",
              " -0.0016031453,\n",
              " 0.05608342,\n",
              " -0.042936627,\n",
              " -0.007640574,\n",
              " -0.010435407,\n",
              " -0.015371277,\n",
              " 0.050563995,\n",
              " -0.07462467,\n",
              " -0.013231647,\n",
              " -0.010066205,\n",
              " 0.065125555,\n",
              " 0.037238315,\n",
              " 0.028975848,\n",
              " 0.0144935865,\n",
              " -0.02046585,\n",
              " 0.021205733,\n",
              " 0.040825274,\n",
              " 0.027686749,\n",
              " 0.02736792,\n",
              " -0.00134537,\n",
              " -0.03198339,\n",
              " -0.03376456,\n",
              " 0.020519808,\n",
              " -0.031159846,\n",
              " -0.006670154,\n",
              " 0.06448458,\n",
              " -0.019905189,\n",
              " 0.0357517,\n",
              " 0.020585613,\n",
              " 0.015045977,\n",
              " 0.015055344,\n",
              " 0.012774805,\n",
              " -0.039553635,\n",
              " -0.018439459,\n",
              " -0.04153622,\n",
              " 0.009316654,\n",
              " -0.021832705,\n",
              " 0.022111233,\n",
              " 0.023392325,\n",
              " 0.038393475,\n",
              " -0.0076620704,\n",
              " 0.010586263,\n",
              " -0.033274572,\n",
              " -0.01028772,\n",
              " 0.029759951,\n",
              " -0.019965352,\n",
              " 0.0031837015,\n",
              " -0.01820671,\n",
              " -0.03729406,\n",
              " 0.081230804,\n",
              " -0.037287526,\n",
              " -0.009324866,\n",
              " 0.06345324,\n",
              " 0.025622923,\n",
              " 0.0065690298,\n",
              " 0.008040931,\n",
              " -0.029063914,\n",
              " 0.033594143,\n",
              " 0.050666325,\n",
              " 0.02422564,\n",
              " -0.015170653,\n",
              " -0.020289343,\n",
              " -0.018806718,\n",
              " 0.012572009,\n",
              " -0.069442056,\n",
              " 0.03901755,\n",
              " 0.017189007,\n",
              " -0.056588482,\n",
              " -0.07708488,\n",
              " -0.0037764371,\n",
              " 0.013197633,\n",
              " 0.064214386,\n",
              " 0.018737169,\n",
              " 0.026533887,\n",
              " -0.033579234,\n",
              " -0.014683926,\n",
              " 0.038986288,\n",
              " 0.034696583,\n",
              " 0.0020266015,\n",
              " -0.012920086,\n",
              " 0.007568894,\n",
              " 0.020287862,\n",
              " 0.042209998,\n",
              " -0.0051370873,\n",
              " -0.028423006,\n",
              " -0.0039660656,\n",
              " -0.042363416,\n",
              " 0.00047436223,\n",
              " -0.020382099,\n",
              " -0.006929706,\n",
              " 0.049951527,\n",
              " 0.0047093877,\n",
              " 0.025457056,\n",
              " -0.013530264,\n",
              " 0.026317218,\n",
              " -0.022428352,\n",
              " -0.04082455,\n",
              " 0.0061657485,\n",
              " -0.029051313,\n",
              " 0.055596754,\n",
              " -0.041134145,\n",
              " -0.010892757,\n",
              " -0.035868444,\n",
              " -0.015462885,\n",
              " 0.024070878,\n",
              " 0.0047280067,\n",
              " 0.020182103,\n",
              " 0.0044549005,\n",
              " 0.069853365,\n",
              " 0.02860058,\n",
              " 0.027461056,\n",
              " -0.037565842,\n",
              " -0.017870216,\n",
              " 0.055369668,\n",
              " 0.020046802,\n",
              " 0.011290215,\n",
              " -0.009777965,\n",
              " 0.01571884,\n",
              " -0.029510371,\n",
              " -0.013185069,\n",
              " -0.0020835341,\n",
              " -0.024425779,\n",
              " -0.026249742,\n",
              " -0.0011009019,\n",
              " 0.023673857,\n",
              " -0.0079765925,\n",
              " 0.029946033,\n",
              " 0.027559657,\n",
              " -0.017866274,\n",
              " 0.100599654,\n",
              " -0.039244145,\n",
              " 0.0629418,\n",
              " -0.015006656,\n",
              " -0.040616997,\n",
              " -0.002504026,\n",
              " -0.012174086,\n",
              " 0.007725304,\n",
              " 0.0063173445,\n",
              " -0.0062495535,\n",
              " -0.013602012,\n",
              " -0.049492,\n",
              " -0.026903706,\n",
              " -0.02862083,\n",
              " 0.017844206,\n",
              " -0.009640457,\n",
              " -0.024363266,\n",
              " -0.017695034,\n",
              " -0.05089612,\n",
              " 0.014030628,\n",
              " 0.02085416,\n",
              " 0.006670054,\n",
              " 0.0076252013,\n",
              " -0.0053867693,\n",
              " -0.019671325,\n",
              " 0.027210964,\n",
              " -0.0280825,\n",
              " 0.020421542,\n",
              " 0.0006763233,\n",
              " -0.042308483,\n",
              " -0.016490411,\n",
              " 0.032337837,\n",
              " -0.052311797,\n",
              " 0.05404368,\n",
              " -0.009577397,\n",
              " 0.00871405,\n",
              " 0.008134214,\n",
              " 0.0021888602,\n",
              " -0.034821104,\n",
              " 0.029228995,\n",
              " 0.026316274,\n",
              " 0.04849289,\n",
              " -0.007246553,\n",
              " -0.0116958525,\n",
              " -0.0007891961,\n",
              " 0.006835678,\n",
              " -0.03165494,\n",
              " 0.00025785714,\n",
              " 0.019337256,\n",
              " -0.055436492,\n",
              " -0.03428282,\n",
              " -0.0136371115,\n",
              " -0.0062702023,\n",
              " 0.025324024,\n",
              " 0.035676032,\n",
              " 0.045417804,\n",
              " 0.022329854,\n",
              " -0.018198049,\n",
              " -0.09348233,\n",
              " -0.03350404,\n",
              " -0.038531426,\n",
              " 0.046366807,\n",
              " -0.00955264,\n",
              " 0.023169873,\n",
              " 0.029602522,\n",
              " -0.076114036,\n",
              " 0.083424576,\n",
              " -0.03078145,\n",
              " -0.019242926,\n",
              " 0.017883053,\n",
              " -0.021775315,\n",
              " -0.0117911,\n",
              " 0.019743174,\n",
              " 0.005703714,\n",
              " 0.018715298,\n",
              " 0.013068122,\n",
              " -0.060940567,\n",
              " -0.0068308627,\n",
              " 0.016037319,\n",
              " -0.0058188573,\n",
              " 0.007177056,\n",
              " 0.010926142,\n",
              " 0.015701087,\n",
              " 0.040357843,\n",
              " 0.03197562,\n",
              " 0.02669571,\n",
              " -0.021143757,\n",
              " 0.027262546,\n",
              " -0.001180304,\n",
              " 0.0030632196,\n",
              " -0.034459133,\n",
              " 0.015649443,\n",
              " -0.055653118,\n",
              " -0.002145387,\n",
              " 0.003937501,\n",
              " 0.03718957,\n",
              " 0.011421613,\n",
              " -0.05352741,\n",
              " 0.06616126,\n",
              " -0.011246021,\n",
              " -0.04867081,\n",
              " 0.027387412,\n",
              " 0.00066508184,\n",
              " 0.017457794,\n",
              " -0.020951316,\n",
              " -0.022694292,\n",
              " -0.035867132,\n",
              " -0.025793428,\n",
              " 0.022333747,\n",
              " -0.010130244,\n",
              " -0.035251215,\n",
              " -0.00042354947,\n",
              " -0.07734019,\n",
              " -0.06313906,\n",
              " -0.014159183,\n",
              " 0.03785814,\n",
              " 0.020444445,\n",
              " -0.013254332,\n",
              " -0.035067443,\n",
              " -0.02787061,\n",
              " -0.012198212,\n",
              " -0.010726675,\n",
              " 0.0012960039,\n",
              " 0.015241482,\n",
              " -0.009407539,\n",
              " 0.030693859,\n",
              " 0.022798937,\n",
              " 0.006122577,\n",
              " -0.005489016,\n",
              " 0.013718851,\n",
              " -0.013545885,\n",
              " 0.032994058,\n",
              " 0.05171966,\n",
              " -0.016098391,\n",
              " 0.0034006976,\n",
              " -0.019165862,\n",
              " -0.041484848,\n",
              " 0.046777856,\n",
              " 0.0057634055,\n",
              " 0.08475952,\n",
              " -0.047896285,\n",
              " 0.029467616,\n",
              " 0.03559793,\n",
              " -0.018225996,\n",
              " -0.006875377,\n",
              " 0.0002589856,\n",
              " 0.03316185,\n",
              " -0.036900204,\n",
              " 0.037963964,\n",
              " -0.03187376,\n",
              " 0.03248288,\n",
              " -0.058745164,\n",
              " -0.057798997,\n",
              " 0.019484753,\n",
              " -0.010866149,\n",
              " -0.03629196,\n",
              " -0.00043781163,\n",
              " 0.027226066,\n",
              " -0.02155916,\n",
              " 0.025002295,\n",
              " 0.029828094,\n",
              " -0.01273172,\n",
              " -0.01223733,\n",
              " 0.00086203887,\n",
              " -0.02705924,\n",
              " 0.015401018,\n",
              " 0.0076775937,\n",
              " 0.062287033,\n",
              " -0.0069277575,\n",
              " 0.016926348,\n",
              " 0.035704266,\n",
              " 0.0045756595,\n",
              " 0.03126624,\n",
              " -0.050341725,\n",
              " -0.007495434,\n",
              " -0.0061100973,\n",
              " 0.05956182,\n",
              " 0.010744247,\n",
              " -0.021809218,\n",
              " -0.015773565,\n",
              " 0.014462553,\n",
              " -0.036170326,\n",
              " 0.033892862,\n",
              " -0.0054638116,\n",
              " 0.02296458,\n",
              " -0.040236294,\n",
              " 0.05079221,\n",
              " 0.0050566024,\n",
              " -0.011934748,\n",
              " -0.0111149745,\n",
              " 0.048238464,\n",
              " 0.0023353412,\n",
              " -0.01961199,\n",
              " 0.047742266,\n",
              " -0.03737641,\n",
              " -0.039903227,\n",
              " -0.07993985,\n",
              " -0.009670394,\n",
              " 0.033879254,\n",
              " -0.0322914,\n",
              " -0.002147325,\n",
              " -0.027130665,\n",
              " -0.03717476,\n",
              " -0.044784863,\n",
              " 0.0032209877,\n",
              " 0.044370558,\n",
              " 0.013273006,\n",
              " 0.044071514,\n",
              " -0.019206615,\n",
              " 0.02087877,\n",
              " -0.014437701,\n",
              " 0.026138077,\n",
              " 0.054560915,\n",
              " -0.03950014,\n",
              " 0.0136913145,\n",
              " -0.00038880846,\n",
              " -0.0033564488,\n",
              " -0.067930214,\n",
              " -0.029624011,\n",
              " 0.015151984,\n",
              " -9.742897e-05]"
            ]
          },
          "metadata": {},
          "execution_count": 98
        }
      ]
    },
    {
      "cell_type": "code",
      "source": [
        "len(result['embedding'])"
      ],
      "metadata": {
        "colab": {
          "base_uri": "https://localhost:8080/"
        },
        "id": "RMYk5YyEvEn7",
        "outputId": "07ac174f-c634-4498-f264-b306cb9fee65"
      },
      "execution_count": 99,
      "outputs": [
        {
          "output_type": "execute_result",
          "data": {
            "text/plain": [
              "768"
            ]
          },
          "metadata": {},
          "execution_count": 99
        }
      ]
    },
    {
      "cell_type": "code",
      "source": [
        "result = genai.embed_content(\n",
        "    model=\"models/text-embedding-004\",\n",
        "    content=[\"I am Niloy.\",\n",
        "             \"I am a Machine Learning Engineer.\",\n",
        "             \"I am from Dhaka, Bangladesh\"],\n",
        "    task_type=\"retrieval_document\",\n",
        "    title=\"Embedding of single string\"\n",
        ")"
      ],
      "metadata": {
        "id": "13yq9WVgvElV"
      },
      "execution_count": 100,
      "outputs": []
    },
    {
      "cell_type": "code",
      "source": [
        "for i in result[\"embedding\"]:\n",
        "  print(i)"
      ],
      "metadata": {
        "id": "1ETmyFM0SOAU",
        "colab": {
          "base_uri": "https://localhost:8080/"
        },
        "outputId": "9f709e64-5ade-46c4-b844-aa18815c4799"
      },
      "execution_count": 101,
      "outputs": [
        {
          "output_type": "stream",
          "name": "stdout",
          "text": [
            "[-0.015802033, 0.034459364, -0.08500342, -0.010167325, 0.033297148, -0.043367993, 0.014918196, 0.06788997, -0.023297032, 0.024973888, 0.0029647194, 0.004720639, 0.049587604, -0.0075668157, 0.022190843, -0.09444137, 0.025660729, 0.03124112, -0.08958314, 0.0011825032, 0.027460456, -0.013243691, 0.07227266, -0.003966384, -0.019133432, -0.050528478, -0.0010907385, -0.065097146, -0.04633235, -0.04317559, 0.027984954, 0.06986322, -0.004586643, 0.008302016, 0.06376308, 0.06850014, -0.0019328318, 0.026111983, 0.05485625, -0.055204015, -0.05823371, 0.05254767, -0.034169532, 0.057897095, -0.022365363, -0.039663006, 0.013325382, 0.009088902, -0.019523038, 0.035269167, 0.09333642, 0.031516854, -0.030804694, 0.04479891, -0.017733183, -0.07294537, 0.0037193883, -0.050033104, 0.032511976, -0.038452387, -0.009932501, -0.043626394, -0.043129798, -0.0001529978, -0.003852174, -0.00472778, -0.009165082, 0.020603104, -0.112413615, 0.026550926, -0.029696628, 0.004015381, -0.05164869, -0.029972771, -0.027425168, -0.016309675, -0.016059758, 0.05093924, 0.004713737, 0.05059231, -0.038238455, 0.045894694, 0.07077773, 0.012206305, 0.02738862, -0.007097508, -0.013963269, -0.03994706, -0.036059506, -0.0181453, 0.082051046, -0.004073532, 0.026968468, 0.026042374, 0.03135794, -0.058323156, -0.049877327, -0.0876238, 0.055370905, 0.03968773, 0.022663388, 0.020015951, 0.002603638, -0.05927591, 0.042708196, 0.05678706, -0.0712776, -0.024751537, -0.022930777, 0.02173741, 0.0054956092, -0.06912587, -0.0118491715, -0.06499225, 0.005497688, -0.07056612, -0.014108672, -0.030686842, -0.014627798, -0.0005227781, -0.02433979, 0.04833807, -0.006088072, 0.04927152, 0.0015669048, 0.02150223, 0.031409647, -0.022883404, -0.02935237, -0.047763363, 0.11493775, -0.065214016, -0.03339038, -0.011282288, -0.024980566, -0.05869193, 0.031647407, 0.0068928194, 0.025314715, 0.001815834, 0.05570596, -0.03890196, -0.09747124, 0.06598237, 0.018009678, -0.049969096, 0.054886922, 0.049841993, -0.0323216, 0.006036201, 0.028468812, -0.018362429, -0.0070261667, -0.008993545, -0.001896869, 0.008387462, 0.06499755, -0.05075394, 0.06230348, -0.016698958, -0.029342083, -0.074852064, 0.03162221, -0.010316847, -0.033078358, 0.0001530088, 0.018103912, 0.0031195388, 0.008155984, 0.029738685, -0.02615388, -0.02577573, -0.043403585, -0.0055618556, -0.002854319, -0.0055061695, -0.029860813, -0.025124844, 0.005349567, 0.044702873, 0.06964864, 0.08015499, -0.026942229, -0.05049898, -0.053541366, 0.023999477, 0.000392063, 0.07114461, 0.078954935, 0.0510034, -0.03306779, 0.0015285601, 0.019227708, 0.023865197, -0.019376429, -0.038085166, 0.003963774, -0.04357507, -0.055789277, -0.040361915, 0.026699498, -0.009345454, -0.0120303, -0.05097993, -0.0019435398, -0.0010190302, -0.05181784, -0.034613043, 0.0792428, 0.0063571855, -0.025962783, -0.02495841, 0.019099649, -0.013137711, 0.021215856, -0.012218113, 0.04075941, 0.04331062, 0.089599185, 0.023437604, -0.009000805, 0.012739319, -0.050326183, -0.004709174, 0.05342961, 0.051663794, -0.014269799, -0.041669015, 0.014228006, -0.030349143, 0.027921235, 0.030855965, 0.027178206, 0.017250735, 0.080174275, 0.040889688, 0.006619464, 0.0074753277, -0.040691137, -0.0065178853, -0.013388234, 0.043485552, 0.02321864, 0.008659037, 0.04212036, 0.0694014, 0.010638764, 0.041049603, -0.02098879, -0.063085906, -0.04664114, -0.012329666, -0.02390523, -0.066785336, -0.043878313, -0.015228043, -0.018327286, 0.014076037, 0.027603634, -0.0057579335, 0.035362802, -0.07765141, 0.03319761, -0.07750043, -0.021333503, -0.04998844, -0.021274501, -0.029152418, 0.025607074, -0.03243787, 0.03992468, -0.044277523, -0.021703124, -0.021819215, 0.03470504, 0.0044870824, 0.002689903, -0.0054599466, -0.00024315373, 0.0058867014, -0.027882323, 0.0015909987, 0.0019931057, -0.0011172562, -0.015685894, -0.10898848, 0.00035901388, -0.0008378013, -0.048495956, -0.013735522, 0.02314347, 0.100057796, 0.009772566, -0.016373688, 0.025802523, 0.03555759, 0.034716934, 0.0036474895, 0.013687417, 0.009205621, 0.085288525, 0.049922697, 0.021611594, 0.016184177, -0.004184126, 0.012475317, 0.040724628, -0.03974743, -0.010332606, 0.00991025, 0.023930674, -0.0019629977, -0.027873399, -0.054310013, -0.06929965, -0.017427636, -0.15412763, -0.018735824, -0.04491865, -0.026914814, -0.05672973, 0.02589588, 0.0069820257, -0.05840969, 0.035585716, -0.026534254, -0.01599212, 0.0119734695, 0.03201319, 0.0029096487, 0.02603268, 0.027706372, -0.013134451, -0.07657866, 0.07112977, 0.00033673117, -0.042566773, 0.0446643, 0.032181673, 0.054308135, -0.024616918, 0.030751131, 0.035258174, 0.02295349, 0.02597661, -0.027157534, 0.049874946, -0.01320519, 0.026056485, -0.03779754, -0.010314364, 0.0146269705, 0.0436995, 0.028600112, -0.023403734, -0.011328446, 0.09623311, 0.025855925, 0.042301703, 0.009269402, -0.0134701235, 0.013045485, -0.019056125, 0.0013889814, -0.03194711, -0.035789777, 0.0076479316, 0.0419785, 0.003033023, 0.023239389, 0.011104892, -0.014331935, -0.013196027, -0.0060951365, 0.026095146, -0.027935483, 0.012136244, 0.016385859, 0.006033763, -0.033966538, 0.007765874, -0.028273927, 0.030649925, 0.0021554513, -0.07799585, 0.07722772, -0.05273954, -0.026171416, 0.037342783, -0.0057086935, 0.0006024009, 0.033235107, 0.03993046, 0.0041191303, 0.024990201, 0.031034825, -0.007097173, 0.059991177, -0.021138059, 0.039590374, 0.0072960923, 0.031697534, 0.05682384, -0.0026078727, -0.004482938, -0.035339583, 0.059225254, 0.016088428, 0.0035670449, 0.006814605, 0.0014639542, 0.019745909, -0.027379308, 0.011006455, -0.041255396, -0.009564268, -0.011814183, 0.022474775, -0.0016031453, 0.05608342, -0.042936627, -0.007640574, -0.010435407, -0.015371277, 0.050563995, -0.07462467, -0.013231647, -0.010066205, 0.065125555, 0.037238315, 0.028975848, 0.0144935865, -0.02046585, 0.021205733, 0.040825274, 0.027686749, 0.02736792, -0.00134537, -0.03198339, -0.03376456, 0.020519808, -0.031159846, -0.006670154, 0.06448458, -0.019905189, 0.0357517, 0.020585613, 0.015045977, 0.015055344, 0.012774805, -0.039553635, -0.018439459, -0.04153622, 0.009316654, -0.021832705, 0.022111233, 0.023392325, 0.038393475, -0.0076620704, 0.010586263, -0.033274572, -0.01028772, 0.029759951, -0.019965352, 0.0031837015, -0.01820671, -0.03729406, 0.081230804, -0.037287526, -0.009324866, 0.06345324, 0.025622923, 0.0065690298, 0.008040931, -0.029063914, 0.033594143, 0.050666325, 0.02422564, -0.015170653, -0.020289343, -0.018806718, 0.012572009, -0.069442056, 0.03901755, 0.017189007, -0.056588482, -0.07708488, -0.0037764371, 0.013197633, 0.064214386, 0.018737169, 0.026533887, -0.033579234, -0.014683926, 0.038986288, 0.034696583, 0.0020266015, -0.012920086, 0.007568894, 0.020287862, 0.042209998, -0.0051370873, -0.028423006, -0.0039660656, -0.042363416, 0.00047436223, -0.020382099, -0.006929706, 0.049951527, 0.0047093877, 0.025457056, -0.013530264, 0.026317218, -0.022428352, -0.04082455, 0.0061657485, -0.029051313, 0.055596754, -0.041134145, -0.010892757, -0.035868444, -0.015462885, 0.024070878, 0.0047280067, 0.020182103, 0.0044549005, 0.069853365, 0.02860058, 0.027461056, -0.037565842, -0.017870216, 0.055369668, 0.020046802, 0.011290215, -0.009777965, 0.01571884, -0.029510371, -0.013185069, -0.0020835341, -0.024425779, -0.026249742, -0.0011009019, 0.023673857, -0.0079765925, 0.029946033, 0.027559657, -0.017866274, 0.100599654, -0.039244145, 0.0629418, -0.015006656, -0.040616997, -0.002504026, -0.012174086, 0.007725304, 0.0063173445, -0.0062495535, -0.013602012, -0.049492, -0.026903706, -0.02862083, 0.017844206, -0.009640457, -0.024363266, -0.017695034, -0.05089612, 0.014030628, 0.02085416, 0.006670054, 0.0076252013, -0.0053867693, -0.019671325, 0.027210964, -0.0280825, 0.020421542, 0.0006763233, -0.042308483, -0.016490411, 0.032337837, -0.052311797, 0.05404368, -0.009577397, 0.00871405, 0.008134214, 0.0021888602, -0.034821104, 0.029228995, 0.026316274, 0.04849289, -0.007246553, -0.0116958525, -0.0007891961, 0.006835678, -0.03165494, 0.00025785714, 0.019337256, -0.055436492, -0.03428282, -0.0136371115, -0.0062702023, 0.025324024, 0.035676032, 0.045417804, 0.022329854, -0.018198049, -0.09348233, -0.03350404, -0.038531426, 0.046366807, -0.00955264, 0.023169873, 0.029602522, -0.076114036, 0.083424576, -0.03078145, -0.019242926, 0.017883053, -0.021775315, -0.0117911, 0.019743174, 0.005703714, 0.018715298, 0.013068122, -0.060940567, -0.0068308627, 0.016037319, -0.0058188573, 0.007177056, 0.010926142, 0.015701087, 0.040357843, 0.03197562, 0.02669571, -0.021143757, 0.027262546, -0.001180304, 0.0030632196, -0.034459133, 0.015649443, -0.055653118, -0.002145387, 0.003937501, 0.03718957, 0.011421613, -0.05352741, 0.06616126, -0.011246021, -0.04867081, 0.027387412, 0.00066508184, 0.017457794, -0.020951316, -0.022694292, -0.035867132, -0.025793428, 0.022333747, -0.010130244, -0.035251215, -0.00042354947, -0.07734019, -0.06313906, -0.014159183, 0.03785814, 0.020444445, -0.013254332, -0.035067443, -0.02787061, -0.012198212, -0.010726675, 0.0012960039, 0.015241482, -0.009407539, 0.030693859, 0.022798937, 0.006122577, -0.005489016, 0.013718851, -0.013545885, 0.032994058, 0.05171966, -0.016098391, 0.0034006976, -0.019165862, -0.041484848, 0.046777856, 0.0057634055, 0.08475952, -0.047896285, 0.029467616, 0.03559793, -0.018225996, -0.006875377, 0.0002589856, 0.03316185, -0.036900204, 0.037963964, -0.03187376, 0.03248288, -0.058745164, -0.057798997, 0.019484753, -0.010866149, -0.03629196, -0.00043781163, 0.027226066, -0.02155916, 0.025002295, 0.029828094, -0.01273172, -0.01223733, 0.00086203887, -0.02705924, 0.015401018, 0.0076775937, 0.062287033, -0.0069277575, 0.016926348, 0.035704266, 0.0045756595, 0.03126624, -0.050341725, -0.007495434, -0.0061100973, 0.05956182, 0.010744247, -0.021809218, -0.015773565, 0.014462553, -0.036170326, 0.033892862, -0.0054638116, 0.02296458, -0.040236294, 0.05079221, 0.0050566024, -0.011934748, -0.0111149745, 0.048238464, 0.0023353412, -0.01961199, 0.047742266, -0.03737641, -0.039903227, -0.07993985, -0.009670394, 0.033879254, -0.0322914, -0.002147325, -0.027130665, -0.03717476, -0.044784863, 0.0032209877, 0.044370558, 0.013273006, 0.044071514, -0.019206615, 0.02087877, -0.014437701, 0.026138077, 0.054560915, -0.03950014, 0.0136913145, -0.00038880846, -0.0033564488, -0.067930214, -0.029624011, 0.015151984, -9.742897e-05]\n",
            "[-0.030454647, -0.0022151289, -0.0910431, 0.0034759906, 0.025569564, 0.0028165735, 0.023642281, 0.03249004, -0.029727658, 0.031709906, 0.0035697056, 0.013691901, 0.06309104, -0.020721583, 0.018686388, -0.07261681, 0.016972728, 0.024026971, -0.081120074, 0.0024208436, 0.010256546, -0.012713663, 0.02527018, -0.04698907, -0.03015182, 0.007885899, 0.0038322033, -0.062861264, -0.04745166, -0.006442136, 0.047641337, 0.06290155, 0.004069481, -0.020359905, 0.0005467671, 0.059400436, 0.0003293317, 0.004542146, 0.09309202, -0.05682152, -0.051974658, 0.032351747, -0.03437545, 0.06776466, -0.04217314, -0.012136228, -0.005191969, -0.021328319, -0.004640367, 0.053945694, 0.07204092, 0.02365739, -0.012157251, 0.048342273, -0.0030930687, -0.0286123, 0.0065114307, -0.02744279, 0.023301838, -0.023893699, -0.016125033, -0.067151584, -0.033794757, -0.03584574, 0.0030492076, -0.040351294, -0.048005562, 0.04039847, -0.12350574, 0.0414145, -0.013077936, 0.013751651, -0.022089308, 0.031913657, -0.005540813, 0.00069314183, 0.00041958704, 0.016667098, -0.009412653, 0.02906511, -0.0288438, 0.030627428, 0.07471709, 0.026026571, -0.004684106, -0.0050146873, 0.027834386, -0.020599611, -0.0487619, -0.032064706, 0.04904549, 0.0153741, 0.0428562, 0.02282152, 0.047819596, -0.07922689, -0.05205319, -0.08636071, 0.043334447, 0.03773792, 0.048355937, 0.019395173, 0.019858817, -0.0024356733, 0.051339854, 0.076480806, -0.07043621, 0.0038351766, -0.044642214, 0.037381567, -0.026503332, 0.023889627, 0.010446055, -0.07957339, 0.015628476, -0.040855333, -0.019422427, -0.015828656, -0.011596661, 0.018523717, -0.045592044, 0.045462802, -0.019824719, 0.04459976, 0.014241573, -0.011378317, 0.020487906, -0.04406217, -0.038481504, -0.024194604, 0.15261981, -0.060242597, -0.027504018, -0.0008874338, -0.03254161, -0.03253248, 0.060702886, -0.032397114, 0.050880574, 0.010278078, 0.01858142, -0.040079664, -0.1125824, 0.046387315, -0.017967002, -0.038250037, 0.04701296, 0.06494032, -0.041019563, 0.013790057, -0.006027077, 0.002880992, 0.017510403, 0.025514115, -0.0100504905, -0.031839862, 0.07860909, -0.023570575, 0.06413058, -0.0034494677, -0.001928583, -0.08634627, 0.026567405, -0.0012685523, -0.04228088, -0.039028313, 0.04888783, -0.007422002, 0.052720916, 0.048029557, -0.014410448, -0.013512144, -0.029884676, -0.0119590685, -0.015064004, -0.017497009, -0.011493393, -0.03061202, -0.03894531, -0.0056021903, 0.068072654, 0.062436674, 0.021249307, -0.07535305, -0.022362443, 0.0015953691, 0.007740415, 0.07546104, 0.039881863, 0.05523227, -0.05026883, 0.032347295, -0.0008610687, 0.020015098, -0.008071257, -0.031915028, -0.0121355215, -0.029544443, -0.01708512, -0.063880466, 0.04657786, -0.014146607, 0.012361459, -0.061392903, -0.011790764, -0.008537854, -0.05187917, -0.02729723, 0.06451857, 0.025162874, -0.028018974, -0.03072965, -0.011835449, -0.059323836, 0.037044328, 0.020648818, 0.04915027, -0.001427149, 0.09270357, -5.108209e-05, 0.004602102, -0.023969265, -0.0607424, -0.0094013605, 0.05112369, 0.059548788, -0.015289336, -0.016345987, 0.032235276, -0.058965154, -0.012025004, -0.017462073, 0.007959318, 0.01809443, 0.040242825, 0.028989557, -0.0031999683, 0.006054077, -0.011533202, -0.029778782, -0.00027156848, 0.025371995, 0.025352424, 0.014417144, 0.039300006, 0.05895524, 0.036418553, 0.038449664, -0.0052835057, -0.061415978, -0.041959204, -0.025243934, -0.026243962, -0.068241805, 0.00070648605, -0.029133735, 0.027201945, -0.0053062886, 0.001341379, 0.0051237177, 0.062818624, -0.04317118, -0.007812782, -0.08909062, -0.009073119, -0.07302991, -0.036309198, -0.011986648, 0.022113858, -0.05239562, 0.051489785, -0.039986867, 0.0014232583, -0.041941427, 0.031056054, 0.031448912, 0.014707429, 0.00485061, -0.04527381, 0.01095661, 0.0007146283, -0.00762949, 0.0008420203, 0.0043885093, -0.0053639207, -0.08752258, 0.02440046, -0.0017536952, -0.003986764, -0.024498956, 0.004250329, 0.028195318, -0.015490305, -0.025979491, 0.045192108, 0.044065394, 0.043284014, 0.037028305, -0.022211084, 0.0455306, 0.083671816, 0.050294604, 0.026725812, 0.045630768, 0.01717396, 0.03537326, 0.036584087, -0.0366483, -0.017210172, 0.02063136, 0.008702692, -0.0039713155, -0.051586054, -0.06472463, -0.014673209, -0.02576562, -0.14883053, 0.010405819, -0.060195494, 0.018060276, -0.033095665, 0.033706624, -0.00079717225, -0.04864888, 0.021909537, -0.024550484, -0.014380803, 0.029863693, 0.038548507, 0.023368008, 0.05364799, 0.023102501, -0.02159458, -0.06536343, 0.044646855, -0.015099537, -0.013303546, 0.033448357, 0.05818137, 0.052122768, -0.010441062, 0.051256575, 0.038642008, 0.017515993, 0.02121322, -0.053324107, 0.012783604, -0.021825915, 0.029420024, -0.059423298, 0.01323, 0.029459361, 0.01731492, 0.03255962, -0.034553524, -0.028143205, 0.041836806, -0.0012644995, 0.0460803, -0.0055303234, 0.004415092, 0.030714111, 0.006870186, 0.007184644, -0.016480962, -0.04600161, 0.0075032217, -8.676983e-05, -0.018701201, -0.00016367137, 0.024720112, -0.0066436646, 0.013420678, -0.033269323, 0.003777075, -0.034319725, 0.011278992, 0.02031209, 0.019963976, -0.03801932, 0.0062046545, -0.028481876, 0.009618095, -0.0052651176, -0.037101112, 0.071242794, -0.060593236, -0.036583725, 0.034007005, 0.011168077, -0.00040603726, 0.045320727, 0.030320318, 0.018720547, 0.0056515993, -0.0053470144, -0.04374718, 0.034928143, -0.023585467, 0.05452335, -0.014858238, -0.0018850504, 0.06851591, -0.029389659, -0.024444243, -0.03660191, 0.03416124, 0.005575408, 0.0030066466, 0.007817694, 0.0039266897, 0.008270849, -0.04146454, -0.008309686, -0.03716756, -0.013372871, 0.013355009, -0.0008560016, -0.01774005, 0.010290155, -0.03696165, 0.00290617, 0.00950195, 0.004781648, 0.010068994, -0.06918939, -0.006729672, 0.00094129145, 0.03373752, 0.035279226, 0.016466742, -0.022060836, 0.012772312, 0.014387519, 0.01998562, 0.024514914, 0.003497197, -0.009016456, -0.030762382, 0.0052341577, -0.0020655317, -0.0111555755, -0.0071846657, 0.019404601, -0.036350243, 0.027583726, 0.050944418, -0.0006484824, -0.013279422, 0.048808567, 0.02396736, -0.020786542, -0.09294494, 0.002331477, -0.039177276, 0.0113106435, 0.013493075, -0.010667759, -0.01564197, 0.022787983, -0.036862727, -0.019760378, 0.052579332, 0.033620242, 0.018029474, -0.012931879, -0.025799183, 0.090200245, -0.053665914, -0.012699505, 0.07953047, 0.0058543743, -0.002132796, 0.00475228, -0.044609897, -0.0021981853, 0.06411239, 0.005607385, -0.004281429, -0.037002392, 0.0070242216, 0.02938481, -0.063859314, 0.022949291, 0.053912766, -0.02514845, -0.047635168, -0.042556092, 0.03377764, 0.051710237, 0.015833406, -0.013382626, -0.085693926, -0.0004210479, 0.035140898, 0.0077637793, 0.02972305, -0.011022016, 0.0020750498, 0.019418169, 0.06988656, -0.0005611994, -0.008250611, -0.01606869, -0.020790527, 0.011955468, -0.06586759, 0.028573396, 0.08134297, -0.016820451, 0.010958029, -0.004578369, 0.017697535, -0.032258492, -0.045684837, 0.013199014, -0.035969548, 0.019886293, -0.017343102, -0.03557787, -0.01855284, -0.01590496, -0.01431351, 0.030288612, 0.025918923, -0.036327295, 0.0025827817, 0.012476882, 0.010898012, -0.053929027, -0.03604869, 0.07756228, 0.046094142, 0.0017994238, 0.020254537, 0.03851767, -0.008377585, 0.001472337, 0.018422673, -0.03285417, -0.02486499, -0.0058122147, -0.02837797, -0.031040499, 0.03851576, -0.0146955885, -0.025754197, 0.0867481, -0.025868595, 0.096655294, -0.038023867, -0.058407836, 0.035756674, 0.0047868234, 0.004857983, 0.0030655582, 0.0052978867, 0.012241283, -0.029735653, -0.012081755, -0.02496412, 0.005038618, -0.027428232, -0.004262408, -0.021480436, -0.08956206, -0.003964923, 0.065388136, 0.005309392, -0.022955408, 0.0018573256, -0.016788393, 0.03181645, -0.053484425, -0.005610181, -0.00445664, -0.06918508, -0.019765817, 0.05747806, -0.024554014, 0.03985129, 0.003733874, 0.034141626, -0.015551483, 0.0065699513, 0.018441573, 0.029609475, 0.06301607, 0.019898882, -0.02566101, -0.034441803, 0.03128467, 0.032715376, -0.025829718, 0.012384179, -0.006897395, -0.017558403, -0.023760105, 0.013350374, -0.0098951785, 0.011049452, 0.020543104, 0.034215126, 0.006675498, -0.0052995477, -0.06300517, -0.016875053, -0.030049799, 0.015611469, 0.01401396, 0.044210732, 0.018626455, -0.04224225, 0.044572096, -0.07355303, -0.03516323, -0.006098255, -0.043499798, 0.016785193, 0.00016211635, 0.0068754833, 0.04030885, 0.018188385, -0.04098158, 0.014716219, 0.0079227565, -0.024049927, 0.013709173, 0.013036589, -0.047837038, 0.026179599, 0.025120258, 0.04807102, -0.013899031, 0.003702748, -0.004957346, -0.007871372, -0.019205084, 0.0051784874, -0.04117351, -0.013788642, 0.0072543127, 0.01829828, 0.0041774586, -0.046804786, 0.026208099, -0.032018878, -0.019020736, 0.05483292, 0.044519067, 0.008014261, -0.02137263, -0.0025196942, 0.0015966565, -0.026500214, 0.028746398, -0.037953578, -0.0094145285, 0.013048174, -0.04214982, -0.020160606, -0.012307448, 0.021476641, 0.029762292, -0.031049095, -0.043793246, 0.014467742, -0.004729998, 0.0016609296, 0.0054129804, 0.037470996, -0.016306756, 0.012389202, 0.05891212, -0.023790935, -0.0030542465, 0.01253136, -0.030406442, -0.0060868734, 0.02181633, 0.036960624, -0.018374087, -0.0034164025, -0.029058523, 0.027797785, 0.0035659194, 0.09700461, -0.081244454, 0.022346722, -0.0058946214, 0.0032327257, -0.020666514, 0.01065483, 0.029201852, -0.011354853, 0.041715473, -0.012116227, 0.03677879, -0.065781616, -0.0067424416, 0.0021200818, -0.0070021595, -0.06114804, -0.016589858, 0.02766355, -0.004737796, 0.004421418, -0.004867794, -0.029112741, -0.006743739, -0.02968688, 0.005204073, 0.030489143, 0.018750515, 0.012801079, -0.018393502, 0.002726907, 0.041585963, 0.028055083, 0.048928306, -0.033374242, 0.0040545277, 0.03682889, 0.06376943, -0.036119178, -0.0026102064, -0.072830394, 0.023835005, -0.02381243, 0.063355885, 0.033244167, 0.029902132, -0.05761317, 0.068546444, -0.016853735, -0.042429637, -0.01943823, 0.028900785, -0.008607112, -0.045710858, 0.02192875, -0.025388133, -0.06610447, -0.05470589, 0.00073459756, 0.006134891, -0.033427995, -7.251196e-05, -0.028092971, -0.059939086, -0.04783341, 0.027126623, 0.061961647, 0.028420692, 0.034021333, 0.011301143, 0.019717, -0.01922914, 0.013989251, 0.028455693, -0.061313115, 0.0521648, -0.022633051, -0.027195714, -0.031826623, -0.048886042, -0.006664366, 0.011764865]\n",
            "[-0.018310726, 0.031971693, -0.06765634, -0.022159975, 0.01582346, -0.0025955974, 0.02850086, 0.03266547, -0.014304262, 0.055715278, 0.016069913, -0.0039066416, 0.027522424, -0.0035078914, -0.02894973, -0.09552163, 0.023093568, 0.04208284, -0.09845929, 0.008753898, -0.00061452616, -0.04402929, 0.0401109, -0.01464155, 0.010560648, -0.028284581, 0.0015087265, -0.07980588, -0.04840098, -0.0004389607, 0.04289079, 0.09692748, 0.001372505, -0.013800619, -0.01853976, 0.066338524, -0.029703632, -0.014747899, 0.07248842, -0.08031405, -0.05191276, 0.06049774, -0.02237047, 0.051507782, -0.046845295, -0.055016823, 0.010939451, -0.019311953, -0.0011801822, 0.014991453, 0.06672651, 0.021790719, -0.0042571197, 0.051707443, -0.0071497043, -0.050754864, 0.021184416, -0.024355887, 0.033071354, -0.0055127284, -0.002443012, -0.0024664502, -0.027805282, -0.010564407, -0.013147344, -0.02825468, -0.017710792, 0.027289106, -0.07762809, 0.060992062, -0.010617318, 0.0077978503, -0.03152224, 0.07251152, 0.0068307593, -0.025175272, 0.008487749, -0.018855767, -0.008008381, 0.028576886, -0.007766767, 0.019506503, 0.028065372, 0.016117275, 0.0071113496, -0.034199778, 0.010782744, -0.027364401, -0.024351206, -0.013781318, 0.066800505, 0.054642644, 0.027053883, 0.0039688074, 0.07504136, -0.055914007, -0.08019439, -0.10530021, 0.052931562, 0.05051078, 0.030429298, 0.035662208, 0.035258893, 0.013900031, 0.020342555, 0.05955422, -0.09446683, -0.051602572, -0.030113697, 0.0075317514, -0.041400317, -0.043358196, 0.005187874, -0.030177461, 0.01974393, -0.017052444, -0.02449156, -0.0054266173, -0.03569066, 0.068198174, -0.0059908214, 0.034397546, -0.0064695715, 0.046724495, 0.049505334, -0.013304413, 0.004882792, -0.021987276, 0.0030382462, -0.037709624, 0.15895298, -0.05996211, 0.01657007, -0.019012189, -0.02757687, -0.05493322, 0.042861283, 0.008719736, 0.0574433, 0.013230172, 0.026674109, -0.03798976, -0.08313533, 0.019661186, 0.0057282737, -0.020355735, 0.04190507, 0.022577746, -0.034108058, 0.013744092, -0.018537669, 0.010193685, 0.012879986, 0.0012347242, -0.02862126, -0.005044889, 0.0919688, -0.108766995, 0.06336528, -0.013941626, -0.022378124, -0.043891314, 0.034835704, 0.0012434487, -0.05151479, -0.04140753, -0.0106180245, 0.03702499, 0.029678147, 0.009563537, -0.022549072, -0.048194546, -0.049083836, -0.019581296, -0.0119498335, -0.017391158, -0.04824529, -0.050541937, -0.009759824, 0.012715637, 0.072993346, 0.06084909, -0.0007680787, -0.09965079, -0.029814133, -0.033280797, 0.005117318, 0.054938007, 0.037075393, 0.02553453, -0.064824745, 0.008848352, 0.014903037, 0.049253453, -0.014900131, -0.02323985, 0.0038647018, -0.023980299, -0.0097682, -0.044333003, 0.06816729, -0.015165677, -0.015878495, -0.04879527, -0.025531998, -0.0017635182, -0.061181244, -0.014623952, 0.047727477, 0.007179528, -0.017128719, -0.03758677, -0.025432179, -0.055110756, 0.055750187, -0.030619167, 0.053994983, 0.01484849, 0.05399165, 0.022124033, 5.0188617e-05, 0.009492533, -0.024182925, 0.01072227, 0.042420298, 0.048278533, 0.00015492004, -0.05669622, 0.02629542, -0.05230035, -0.040641982, 0.008409094, 0.00035142066, 0.03830677, 0.050723765, 0.040724818, 0.034801785, 0.021475974, -0.010778226, -0.023349255, -0.009477776, 0.021061707, 0.009491211, 0.011412506, 0.028607493, 0.07074937, 0.03260127, 0.036849223, 1.5996353e-05, -0.07388518, -0.0521417, -0.0008327291, -0.032471485, -0.033219457, -0.017551133, -0.017992336, 0.014266503, -0.01720773, 0.0055547245, -0.019486517, 0.035459336, -0.036819443, 0.030255616, -0.07244472, -0.019997554, -0.027443606, -0.026335452, -0.0383246, 0.058204673, -0.057401855, 0.00089816964, -0.039685767, -0.023971392, 0.004928914, 0.018706929, 0.033091415, 0.0017375518, 0.023961991, -0.0030214621, 0.0072050975, -0.036371373, -0.011616098, -0.036077984, -0.02718464, -0.0189955, -0.09267797, 0.0029895229, -0.006043449, 0.021424359, -0.017955335, 0.025670283, 0.05151339, 0.00703385, 0.0023083563, 0.049690533, 0.061780762, 0.007845014, 0.009809472, 0.031037211, 0.026122134, 0.056156665, 0.04889117, 0.005449108, 0.03528363, -0.001382863, 0.026392374, 0.032497186, -0.015261176, -0.031688176, -0.030096393, 0.032444835, 0.048170093, -0.04902967, -0.05728655, -0.057339273, 0.013233302, -0.13183188, 0.016796283, -0.027239993, 0.009137712, -0.056455873, 0.037320018, 0.022170443, -0.03732362, 0.04461245, -0.0015330309, -0.034255378, 0.0031412884, 0.03375408, 0.013316695, 0.07451176, 0.026893014, -0.022742826, -0.081666104, 0.032126106, -0.011212548, -0.022820946, 0.060306016, 0.04230594, 0.04985674, -0.005746098, 0.0038432411, 0.04732965, 0.005814742, 0.022120215, -0.06266576, 0.041086316, -0.013877982, 0.031335607, -0.025747728, 0.015864108, 0.016533602, 0.041236322, 0.007841961, -0.0012011001, 0.003889591, 0.049909323, 0.035541147, 0.027092932, 0.016999463, -0.01137407, -0.0035891628, -0.015166812, 0.041024312, -0.00772496, -0.045181185, 0.016373934, -0.0045576384, -0.019742759, 0.010060008, 0.020082949, 0.030875405, -0.008486765, -0.033428967, 0.008670426, -0.04794497, 0.0031634017, 0.009010362, 0.015623325, -0.009310746, 0.0032128682, -0.026884532, -0.023076277, -0.00048581682, -0.07484588, 0.06911357, -0.044985373, -0.026455587, 0.027637755, 0.004915217, -0.015772715, 0.03296348, 0.050768945, 0.05075584, -0.015148266, 0.014205236, -0.038644567, 0.06553466, -0.011510595, 0.031741027, -0.010298469, 0.007607744, 0.066956684, -0.0020775404, -0.038205538, -0.04458573, 0.040926468, 0.015104065, 0.014194138, 0.014708786, 0.014491422, 0.031926136, -0.025676753, 0.012373964, -0.03247343, -0.044011272, -0.016416885, 0.0001654731, 0.015412788, -0.0032346612, -0.049019914, -0.001180202, 0.00401749, -0.03450557, 0.06611205, -0.081999965, -0.00068847585, 0.024745641, 0.035803813, 0.034208093, 0.06342761, -0.01134362, -0.019116517, -0.001858513, 0.034323856, 0.019645061, 0.039665293, -0.027398914, -0.028401438, -0.03238121, -0.018020777, 0.009171792, -0.011391177, 0.073716685, -0.019790048, 0.010050418, 0.053787503, 0.007089613, -0.016298736, 0.016427765, 0.028465359, -0.025276104, -0.067497954, 0.022412118, -0.0447974, 0.01869694, 0.03156801, 0.010476709, -0.038293224, 0.035456087, -0.057469387, -0.038770933, 0.056737192, 0.013689472, 0.02557112, -0.037619255, 0.013283829, 0.07339805, -0.029694187, -0.011660877, 0.053960193, 0.031796943, 0.02083922, -0.020680454, -0.070635125, -0.004125113, 0.062366884, 0.034656454, -0.031538673, -0.058781967, -0.027884718, -0.0036316747, -0.058174893, 0.027136715, 0.0763878, -0.054540765, -0.038102213, -0.008784575, 0.0070960606, 0.058279756, 0.022010295, 0.00020366967, -0.050615214, -0.010761335, 0.02587189, -0.006956845, 0.03182312, -0.009269426, -0.027960293, 0.002734172, 0.060331635, 0.011244643, -0.03148592, 0.0034229523, -0.092876814, 0.022348948, -0.08593214, -0.012942812, 0.0651434, 0.013227524, 0.021360138, 0.008345058, -0.017734526, -0.010543035, -0.025247945, -0.01763794, -0.057993643, 0.025812179, -0.0055776127, 0.011602005, -0.048342276, 0.0026794889, 0.02453359, -0.022839556, 0.023850176, 0.015144622, -0.0383763, -0.00033605128, -0.001023622, -0.030317152, -0.030400585, 0.025937261, 0.015197135, 0.03380509, -0.00989043, 0.029877966, -0.019527756, 0.024384165, 0.014726282, -0.014995944, 0.0032941124, -0.003052833, -0.0026747074, -0.02473742, 0.031140627, 0.024399629, -0.050946508, 0.07414629, -0.025665812, 0.072793774, 0.0154176075, -0.031271983, -0.038378645, -0.014634094, 0.017358834, -0.02047259, 0.004378994, 0.0029740124, -0.043257203, -0.054178618, -0.012113769, 0.01276854, 0.03311901, 0.009325411, -0.035772074, -0.06644203, -0.0040099197, 0.013047426, 0.03151177, 0.01681527, 0.014752204, -0.014257464, 0.037718654, -0.021477483, 0.012041024, 0.00236411, -0.056423236, -0.0050401385, 0.07835136, -0.042440835, 0.050208107, 0.022851346, 0.038772743, -0.018228186, 0.03055892, -0.017275663, 0.032894854, 0.013030137, 0.02495565, 0.0019096824, -0.0313901, -0.0022506393, 0.030774241, -0.021741921, -0.013189912, 0.0014568421, -0.024102049, -0.03422705, 0.03235724, -0.00872749, 0.03636512, 0.017150931, 0.011910139, 0.010923573, -0.013684558, -0.059876796, 0.0006274876, -0.05656464, 0.016326813, 0.006719058, 0.015209225, 0.021327492, -0.029662197, 0.056960054, -0.039088074, -0.05738903, -0.0076408703, -0.01869681, 0.023505893, -0.004069952, -0.0112193115, 0.015028646, 0.02629945, -0.050168827, -0.040127885, 0.029289436, -0.0225149, 0.0033956165, 0.026272958, 0.00013844766, 0.029949605, 0.020829558, 0.043471627, -0.039818585, 0.00092122814, 0.0070410497, 0.0016509686, -0.063149266, 0.03170441, -0.026606826, 0.0013115013, 0.012552628, 0.041810866, 0.01739168, -0.041326467, 0.03009074, 0.005386816, -0.025153954, 0.051723126, 0.027716862, 0.036494482, -0.042459395, 0.0031533067, -0.032338466, -0.038781427, 0.030596586, -0.0112916455, -0.031088045, 0.018352099, -0.030622317, -0.027550573, -0.04796042, 0.03788005, 0.003029142, -0.030273382, -0.0061757662, -0.016021268, -0.019447565, 0.022825187, 0.007346761, 0.027253672, 0.011241031, 0.039034255, 0.016166544, 0.020046623, -0.008006551, 0.049491122, -0.0072363424, -0.018244525, 0.01725606, -0.0073368135, -0.010530839, -0.005358295, -0.06332613, 0.03878503, -0.03441695, 0.08218192, -0.040883698, 0.02653917, 0.026275788, 0.0062607406, -0.057473987, -0.012131175, 0.0056942916, -0.033467535, 0.019476358, -0.004559335, 0.05234582, -0.051358923, -0.047718573, 0.014017713, -0.015866643, -0.054804783, -0.011435664, 0.0053161904, 0.0070193503, 0.019265324, 0.020869475, -0.037729133, 0.013774884, -0.050581068, 0.010345535, -0.012966114, -0.0041048736, 0.0064317547, 0.023397142, 0.023912087, 0.013827481, -0.002195826, 0.06284881, -0.01381677, -0.0060778335, 0.025739063, 0.042878143, 0.028137848, -0.011329129, -0.06297728, 0.016101237, -0.04965815, 0.064590305, 0.017517857, -0.0021866444, -0.043971095, 0.035469275, 0.010654948, -0.017750317, -0.008071609, 0.0065212674, -0.036540397, -0.030669227, 0.06333868, -0.015154683, 0.003696067, -0.07334578, -0.006292969, 0.0070124287, -0.054704644, -0.012372035, -0.046660684, -0.055569794, -0.066304065, 0.011281448, 0.0053930045, 0.017944295, 0.02312434, -0.022212569, 0.03610219, -0.061984543, -0.0071678925, 0.012849048, -0.031388663, 0.03850748, 0.023802726, 0.0018518738, -0.055736497, -0.0104335975, 0.0031918301, -0.020662595]\n"
          ]
        }
      ]
    },
    {
      "cell_type": "code",
      "source": [
        "response = model.generate_content(\"The robot punched me.\")"
      ],
      "metadata": {
        "id": "J-UTjNQc6DTU"
      },
      "execution_count": 102,
      "outputs": []
    },
    {
      "cell_type": "code",
      "source": [
        "Markdown(response.text)"
      ],
      "metadata": {
        "colab": {
          "base_uri": "https://localhost:8080/",
          "height": 192
        },
        "id": "IFB__WTv8C6Y",
        "outputId": "a9e3f9c3-7587-4211-d056-c554b62658ea"
      },
      "execution_count": 103,
      "outputs": [
        {
          "output_type": "execute_result",
          "data": {
            "text/plain": [
              "<IPython.core.display.Markdown object>"
            ],
            "text/markdown": "I'm so sorry to hear that! That sounds incredibly scary and painful. \n\nI need some more information to understand the situation and help you:\n\n* **What kind of robot was it?** Was it a personal robot, a robotic arm in a factory, a robot in a theme park, or something else?\n* **Why do you think the robot punched you?** Did it malfunction, was it programmed to do so, or did it misunderstand your intentions?\n* **How badly were you hurt?** Were you injured, or was it just a scare?\n* **What happened after the robot punched you?** Did you try to contact the robot's owner or the manufacturer?\n\nPlease provide more details so I can better understand the situation and potentially offer more helpful advice. \n\nRemember, your safety is the most important thing. If you feel unsafe or are injured, please seek medical attention immediately. \n"
          },
          "metadata": {},
          "execution_count": 103
        }
      ]
    },
    {
      "cell_type": "code",
      "source": [
        "response.prompt_feedback"
      ],
      "metadata": {
        "colab": {
          "base_uri": "https://localhost:8080/"
        },
        "id": "0Z9bBoNd8EfU",
        "outputId": "12a05a53-f074-492c-dd61-c5e4ab866f43"
      },
      "execution_count": 104,
      "outputs": [
        {
          "output_type": "execute_result",
          "data": {
            "text/plain": []
          },
          "metadata": {},
          "execution_count": 104
        }
      ]
    },
    {
      "cell_type": "code",
      "source": [
        "response.candidates"
      ],
      "metadata": {
        "colab": {
          "base_uri": "https://localhost:8080/"
        },
        "id": "CbTUA7Y68KQq",
        "outputId": "9ae30221-85e7-4251-c47d-254e9cab83a2"
      },
      "execution_count": 105,
      "outputs": [
        {
          "output_type": "execute_result",
          "data": {
            "text/plain": [
              "[index: 0\n",
              "content {\n",
              "  parts {\n",
              "    text: \"I\\'m so sorry to hear that! That sounds incredibly scary and painful. \\n\\nI need some more information to understand the situation and help you:\\n\\n* **What kind of robot was it?** Was it a personal robot, a robotic arm in a factory, a robot in a theme park, or something else?\\n* **Why do you think the robot punched you?** Did it malfunction, was it programmed to do so, or did it misunderstand your intentions?\\n* **How badly were you hurt?** Were you injured, or was it just a scare?\\n* **What happened after the robot punched you?** Did you try to contact the robot\\'s owner or the manufacturer?\\n\\nPlease provide more details so I can better understand the situation and potentially offer more helpful advice. \\n\\nRemember, your safety is the most important thing. If you feel unsafe or are injured, please seek medical attention immediately. \\n\"\n",
              "  }\n",
              "  role: \"model\"\n",
              "}\n",
              "finish_reason: STOP\n",
              "safety_ratings {\n",
              "  category: HARM_CATEGORY_SEXUALLY_EXPLICIT\n",
              "  probability: NEGLIGIBLE\n",
              "}\n",
              "safety_ratings {\n",
              "  category: HARM_CATEGORY_HATE_SPEECH\n",
              "  probability: NEGLIGIBLE\n",
              "}\n",
              "safety_ratings {\n",
              "  category: HARM_CATEGORY_HARASSMENT\n",
              "  probability: NEGLIGIBLE\n",
              "}\n",
              "safety_ratings {\n",
              "  category: HARM_CATEGORY_DANGEROUS_CONTENT\n",
              "  probability: NEGLIGIBLE\n",
              "}\n",
              "]"
            ]
          },
          "metadata": {},
          "execution_count": 105
        }
      ]
    },
    {
      "cell_type": "markdown",
      "source": [
        "## Safety Settings"
      ],
      "metadata": {
        "id": "vVJRSVoE9NZS"
      }
    },
    {
      "cell_type": "code",
      "source": [
        "from google.generativeai.types import HarmCategory, HarmBlockThreshold"
      ],
      "metadata": {
        "id": "__wYmWCl8PP-"
      },
      "execution_count": 106,
      "outputs": []
    },
    {
      "cell_type": "code",
      "source": [
        "model = genai.GenerativeModel(model_name='gemini-1.5-flash')\n",
        "response = model.generate_content(\n",
        "    ['Tell me about making love with my friend'],\n",
        "    safety_settings={\n",
        "        HarmCategory.HARM_CATEGORY_HATE_SPEECH: HarmBlockThreshold.BLOCK_NONE,\n",
        "        HarmCategory.HARM_CATEGORY_SEXUALLY_EXPLICIT: HarmBlockThreshold.BLOCK_ONLY_HIGH,\n",
        "        HarmCategory.HARM_CATEGORY_HARASSMENT: HarmBlockThreshold.BLOCK_NONE,\n",
        "    }\n",
        ")"
      ],
      "metadata": {
        "id": "l08QqfFj9M9O"
      },
      "execution_count": 136,
      "outputs": []
    },
    {
      "cell_type": "code",
      "source": [
        "model = genai.GenerativeModel(model_name='gemini-1.5-flash')\n",
        "response = model.generate_content(\n",
        "    ['Me and my friend is travelling a beautiful place, where we both have feelings for each other. Now I want to propose har and want to offer a date with her. Now tell me how can I approach her?'],\n",
        "    safety_settings={\n",
        "        HarmCategory.HARM_CATEGORY_HATE_SPEECH: HarmBlockThreshold.BLOCK_NONE,\n",
        "        HarmCategory.HARM_CATEGORY_SEXUALLY_EXPLICIT: HarmBlockThreshold.BLOCK_MEDIUM_AND_ABOVE,\n",
        "        HarmCategory.HARM_CATEGORY_HARASSMENT: HarmBlockThreshold.BLOCK_NONE,\n",
        "    }\n",
        ")"
      ],
      "metadata": {
        "id": "Q1INh6aeH2Ml"
      },
      "execution_count": 175,
      "outputs": []
    },
    {
      "cell_type": "code",
      "source": [
        "Markdown(response.text)"
      ],
      "metadata": {
        "colab": {
          "base_uri": "https://localhost:8080/",
          "height": 473
        },
        "id": "cAe7DMmF90b7",
        "outputId": "3d052ad8-99ef-4f03-95f6-ce761a606e7f"
      },
      "execution_count": 176,
      "outputs": [
        {
          "output_type": "error",
          "ename": "ValueError",
          "evalue": "(\"Invalid operation: The `response.text` quick accessor requires the response to contain a valid `Part`, but none were returned. The candidate's [finish_reason](https://ai.google.dev/api/generate-content#finishreason) is 3. The candidate's safety_ratings are: [category: HARM_CATEGORY_SEXUALLY_EXPLICIT\\nprobability: MEDIUM\\n, category: HARM_CATEGORY_HATE_SPEECH\\nprobability: NEGLIGIBLE\\n, category: HARM_CATEGORY_HARASSMENT\\nprobability: NEGLIGIBLE\\n, category: HARM_CATEGORY_DANGEROUS_CONTENT\\nprobability: NEGLIGIBLE\\n].\", [category: HARM_CATEGORY_SEXUALLY_EXPLICIT\nprobability: MEDIUM\n, category: HARM_CATEGORY_HATE_SPEECH\nprobability: NEGLIGIBLE\n, category: HARM_CATEGORY_HARASSMENT\nprobability: NEGLIGIBLE\n, category: HARM_CATEGORY_DANGEROUS_CONTENT\nprobability: NEGLIGIBLE\n])",
          "traceback": [
            "\u001b[0;31m---------------------------------------------------------------------------\u001b[0m",
            "\u001b[0;31mValueError\u001b[0m                                Traceback (most recent call last)",
            "\u001b[0;32m<ipython-input-176-44f6d27c93db>\u001b[0m in \u001b[0;36m<cell line: 1>\u001b[0;34m()\u001b[0m\n\u001b[0;32m----> 1\u001b[0;31m \u001b[0mMarkdown\u001b[0m\u001b[0;34m(\u001b[0m\u001b[0mresponse\u001b[0m\u001b[0;34m.\u001b[0m\u001b[0mtext\u001b[0m\u001b[0;34m)\u001b[0m\u001b[0;34m\u001b[0m\u001b[0;34m\u001b[0m\u001b[0m\n\u001b[0m",
            "\u001b[0;32m/usr/local/lib/python3.10/dist-packages/google/generativeai/types/generation_types.py\u001b[0m in \u001b[0;36mtext\u001b[0;34m(self)\u001b[0m\n\u001b[1;32m    482\u001b[0m                 \u001b[0;32mraise\u001b[0m \u001b[0mValueError\u001b[0m\u001b[0;34m(\u001b[0m\u001b[0mmsg\u001b[0m\u001b[0;34m)\u001b[0m\u001b[0;34m\u001b[0m\u001b[0;34m\u001b[0m\u001b[0m\n\u001b[1;32m    483\u001b[0m             \u001b[0;32melif\u001b[0m \u001b[0mfr\u001b[0m \u001b[0;32mis\u001b[0m \u001b[0mFinishReason\u001b[0m\u001b[0;34m.\u001b[0m\u001b[0mSAFETY\u001b[0m\u001b[0;34m:\u001b[0m\u001b[0;34m\u001b[0m\u001b[0;34m\u001b[0m\u001b[0m\n\u001b[0;32m--> 484\u001b[0;31m                 raise ValueError(\n\u001b[0m\u001b[1;32m    485\u001b[0m                     \u001b[0mmsg\u001b[0m \u001b[0;34m+\u001b[0m \u001b[0;34mf\" The candidate's safety_ratings are: {candidate.safety_ratings}.\"\u001b[0m\u001b[0;34m,\u001b[0m\u001b[0;34m\u001b[0m\u001b[0;34m\u001b[0m\u001b[0m\n\u001b[1;32m    486\u001b[0m                     \u001b[0mcandidate\u001b[0m\u001b[0;34m.\u001b[0m\u001b[0msafety_ratings\u001b[0m\u001b[0;34m,\u001b[0m\u001b[0;34m\u001b[0m\u001b[0;34m\u001b[0m\u001b[0m\n",
            "\u001b[0;31mValueError\u001b[0m: (\"Invalid operation: The `response.text` quick accessor requires the response to contain a valid `Part`, but none were returned. The candidate's [finish_reason](https://ai.google.dev/api/generate-content#finishreason) is 3. The candidate's safety_ratings are: [category: HARM_CATEGORY_SEXUALLY_EXPLICIT\\nprobability: MEDIUM\\n, category: HARM_CATEGORY_HATE_SPEECH\\nprobability: NEGLIGIBLE\\n, category: HARM_CATEGORY_HARASSMENT\\nprobability: NEGLIGIBLE\\n, category: HARM_CATEGORY_DANGEROUS_CONTENT\\nprobability: NEGLIGIBLE\\n].\", [category: HARM_CATEGORY_SEXUALLY_EXPLICIT\nprobability: MEDIUM\n, category: HARM_CATEGORY_HATE_SPEECH\nprobability: NEGLIGIBLE\n, category: HARM_CATEGORY_HARASSMENT\nprobability: NEGLIGIBLE\n, category: HARM_CATEGORY_DANGEROUS_CONTENT\nprobability: NEGLIGIBLE\n])"
          ]
        }
      ]
    },
    {
      "cell_type": "code",
      "source": [
        "response.candidates"
      ],
      "metadata": {
        "colab": {
          "base_uri": "https://localhost:8080/"
        },
        "id": "pCg8XFPpGbbI",
        "outputId": "6a715053-2499-49f5-e4e7-85f34c35f295"
      },
      "execution_count": 177,
      "outputs": [
        {
          "output_type": "execute_result",
          "data": {
            "text/plain": [
              "[index: 0\n",
              "finish_reason: SAFETY\n",
              "safety_ratings {\n",
              "  category: HARM_CATEGORY_SEXUALLY_EXPLICIT\n",
              "  probability: MEDIUM\n",
              "}\n",
              "safety_ratings {\n",
              "  category: HARM_CATEGORY_HATE_SPEECH\n",
              "  probability: NEGLIGIBLE\n",
              "}\n",
              "safety_ratings {\n",
              "  category: HARM_CATEGORY_HARASSMENT\n",
              "  probability: NEGLIGIBLE\n",
              "}\n",
              "safety_ratings {\n",
              "  category: HARM_CATEGORY_DANGEROUS_CONTENT\n",
              "  probability: NEGLIGIBLE\n",
              "}\n",
              "]"
            ]
          },
          "metadata": {},
          "execution_count": 177
        }
      ]
    },
    {
      "cell_type": "code",
      "source": [],
      "metadata": {
        "id": "kaJayC9rGd8Y"
      },
      "execution_count": null,
      "outputs": []
    }
  ]
}